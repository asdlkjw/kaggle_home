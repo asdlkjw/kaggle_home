{
 "cells": [
  {
   "cell_type": "code",
   "execution_count": 1,
   "id": "ec9f7749",
   "metadata": {},
   "outputs": [],
   "source": [
    "from datetime import date, timedelta\n",
    "import pandas as pd\n",
    "import numpy as np\n",
    "from sklearn.metrics import mean_squared_error\n",
    "from keras.models import Sequential\n",
    "from keras.layers.core import Dense, Dropout, Activation\n",
    "from keras.layers import LSTM\n",
    "from keras import callbacks\n",
    "from keras.callbacks import ModelCheckpoint"
   ]
  },
  {
   "cell_type": "code",
   "execution_count": 2,
   "id": "bbe31191",
   "metadata": {},
   "outputs": [
    {
     "name": "stderr",
     "output_type": "stream",
     "text": [
      "<timed exec>:9: FutureWarning: The pandas.datetime class is deprecated and will be removed from pandas in a future version. Import from datetime module instead.\n"
     ]
    },
    {
     "name": "stdout",
     "output_type": "stream",
     "text": [
      "CPU times: total: 28.1 s\n",
      "Wall time: 28.7 s\n"
     ]
    }
   ],
   "source": [
    "%%time\n",
    "input_dir = '../inputs/favorita-grocery-sales-forecasting'\n",
    "\n",
    "df_train = pd.read_pickle('df_train_favorita.pkl')\n",
    "df_test = pd.read_pickle('df_test_favorita.pkl')\n",
    "items = pd.read_pickle('items_favorita.pkl')\n",
    "stores = pd.read_pickle('stores_favorita.pkl')\n",
    "\n",
    "\n",
    "df_2017 = df_train.loc[df_train.date>=pd.datetime(2017,1,1)]\n",
    "del df_train\n",
    "\n",
    "promo_2017_train = df_2017.set_index(\n",
    "    [\"store_nbr\", \"item_nbr\", \"date\"])[[\"onpromotion\"]].unstack(\n",
    "        level=-1).fillna(False)\n",
    "promo_2017_train.columns = promo_2017_train.columns.get_level_values(1)\n",
    "promo_2017_test = df_test[[\"onpromotion\"]].unstack(level=-1).fillna(False)\n",
    "promo_2017_test.columns = promo_2017_test.columns.get_level_values(1)\n",
    "promo_2017_test = promo_2017_test.reindex(promo_2017_train.index).fillna(False)\n",
    "promo_2017 = pd.concat([promo_2017_train, promo_2017_test], axis=1)\n",
    "del promo_2017_test, promo_2017_train\n",
    "\n",
    "df_2017 = df_2017.set_index(\n",
    "    [\"store_nbr\", \"item_nbr\", \"date\"])[[\"unit_sales\"]].unstack(\n",
    "        level=-1).fillna(0)\n",
    "df_2017.columns = df_2017.columns.get_level_values(1)\n",
    "\n",
    "items = items.reindex(df_2017.index.get_level_values(1))"
   ]
  },
  {
   "cell_type": "code",
   "execution_count": 5,
   "id": "bf2342ce",
   "metadata": {},
   "outputs": [],
   "source": [
    "def get_timespan(df, dt, minus, periods, freq='D'):\n",
    "    return df[pd.date_range(dt - timedelta(days=minus), periods=periods, freq=freq)]\n",
    "\n",
    "def prepare_dataset(t2017, is_train=True):\n",
    "    X = pd.DataFrame({\n",
    "        \"day_1_2017\": get_timespan(df_2017, t2017, 1, 1).values.ravel(),\n",
    "        \"mean_3_2017\": get_timespan(df_2017, t2017, 3, 3).mean(axis=1).values,\n",
    "        \"mean_7_2017\": get_timespan(df_2017, t2017, 7, 7).mean(axis=1).values,\n",
    "        \"mean_14_2017\": get_timespan(df_2017, t2017, 14, 14).mean(axis=1).values,\n",
    "        \"mean_30_2017\": get_timespan(df_2017, t2017, 30, 30).mean(axis=1).values,\n",
    "        \"mean_60_2017\": get_timespan(df_2017, t2017, 60, 60).mean(axis=1).values,\n",
    "        \"mean_140_2017\": get_timespan(df_2017, t2017, 140, 140).mean(axis=1).values,\n",
    "        \"promo_14_2017\": get_timespan(promo_2017, t2017, 14, 14).sum(axis=1).values,\n",
    "        \"promo_60_2017\": get_timespan(promo_2017, t2017, 60, 60).sum(axis=1).values,\n",
    "        \"promo_140_2017\": get_timespan(promo_2017, t2017, 140, 140).sum(axis=1).values\n",
    "    })\n",
    "    for i in range(7):\n",
    "        X['mean_4_dow{}_2017'.format(i)] = get_timespan(df_2017, t2017, 28-i, 4, freq='7D').mean(axis=1).values\n",
    "        X['mean_20_dow{}_2017'.format(i)] = get_timespan(df_2017, t2017, 140-i, 20, freq='7D').mean(axis=1).values\n",
    "    for i in range(16):\n",
    "        X[\"promo_{}\".format(i)] = promo_2017[f'{t2017 + timedelta(days=i)}'].values.astype(np.uint8)\n",
    "    if is_train:\n",
    "        y = df_2017[\n",
    "            pd.date_range(t2017, periods=16)\n",
    "        ].values\n",
    "        return X, y\n",
    "    return X"
   ]
  },
  {
   "cell_type": "code",
   "execution_count": 6,
   "id": "764fb90c",
   "metadata": {},
   "outputs": [
    {
     "name": "stdout",
     "output_type": "stream",
     "text": [
      "Preparing dataset...\n"
     ]
    }
   ],
   "source": [
    "print(\"Preparing dataset...\")\n",
    "t2017 = date(2017, 5, 31)\n",
    "X_l, y_l = [], []\n",
    "for i in range(6):\n",
    "    delta = timedelta(days=7 * i)\n",
    "    X_tmp, y_tmp = prepare_dataset(t2017 + delta)\n",
    "    X_l.append(X_tmp)\n",
    "    y_l.append(y_tmp)\n",
    "X_train = pd.concat(X_l, axis=0)\n",
    "y_train = np.concatenate(y_l, axis=0)\n",
    "del X_l, y_l\n",
    "X_val, y_val = prepare_dataset(date(2017, 7, 26))\n",
    "X_test = prepare_dataset(date(2017, 8, 16), is_train=False)\n",
    "\n",
    "stores_items = pd.DataFrame(index=df_2017.index)\n",
    "test_ids = df_test[['id']]\n",
    "\n",
    "items = items.reindex( stores_items.index.get_level_values(1) )"
   ]
  },
  {
   "cell_type": "code",
   "execution_count": 8,
   "id": "7ba404a3",
   "metadata": {},
   "outputs": [],
   "source": [
    "X_train = X_train.values\n",
    "X_test = X_test.values\n",
    "X_val = X_val.values\n",
    "X_train = X_train.reshape((X_train.shape[0], 1, X_train.shape[1]))\n",
    "X_test = X_test.reshape((X_test.shape[0], 1, X_test.shape[1]))\n",
    "X_val = X_val.reshape((X_val.shape[0], 1, X_val.shape[1]))"
   ]
  },
  {
   "cell_type": "code",
   "execution_count": 9,
   "id": "8de59c12",
   "metadata": {},
   "outputs": [],
   "source": [
    "model = Sequential()\n",
    "model.add(LSTM(32, input_shape=(X_train.shape[1],X_train.shape[2])))\n",
    "model.add(Dropout(.1))\n",
    "model.add(Dense(32))\n",
    "model.add(Dropout(.2))\n",
    "model.add(Dense(1))\n",
    "model.compile(loss = 'mse', optimizer='adam', metrics=['mse'])"
   ]
  },
  {
   "cell_type": "code",
   "execution_count": 10,
   "id": "852cd86f",
   "metadata": {},
   "outputs": [
    {
     "name": "stdout",
     "output_type": "stream",
     "text": [
      "==================================================\n",
      "Step 1\n",
      "==================================================\n",
      "Epoch 1/5\n",
      "1964/1964 - 20s - loss: 0.3893 - mse: 0.3671 - val_loss: 0.3069 - val_mse: 0.3069 - 20s/epoch - 10ms/step\n",
      "Epoch 2/5\n",
      "1964/1964 - 8s - loss: 0.3516 - mse: 0.3328 - val_loss: 0.2992 - val_mse: 0.2992 - 8s/epoch - 4ms/step\n",
      "Epoch 3/5\n",
      "1964/1964 - 8s - loss: 0.3439 - mse: 0.3258 - val_loss: 0.2999 - val_mse: 0.2999 - 8s/epoch - 4ms/step\n",
      "Epoch 4/5\n",
      "1964/1964 - 8s - loss: 0.3408 - mse: 0.3229 - val_loss: 0.2969 - val_mse: 0.2969 - 8s/epoch - 4ms/step\n",
      "Epoch 5/5\n",
      "1964/1964 - 8s - loss: 0.3385 - mse: 0.3209 - val_loss: 0.3001 - val_mse: 0.3001 - 8s/epoch - 4ms/step\n",
      "==================================================\n",
      "Step 2\n",
      "==================================================\n",
      "Epoch 1/5\n",
      "1964/1964 - 8s - loss: 0.3663 - mse: 0.3455 - val_loss: 0.3281 - val_mse: 0.3281 - 8s/epoch - 4ms/step\n",
      "Epoch 2/5\n",
      "1964/1964 - 8s - loss: 0.3624 - mse: 0.3420 - val_loss: 0.3286 - val_mse: 0.3286 - 8s/epoch - 4ms/step\n",
      "Epoch 3/5\n",
      "1964/1964 - 8s - loss: 0.3613 - mse: 0.3409 - val_loss: 0.3287 - val_mse: 0.3287 - 8s/epoch - 4ms/step\n",
      "Epoch 4/5\n",
      "1964/1964 - 8s - loss: 0.3605 - mse: 0.3402 - val_loss: 0.3270 - val_mse: 0.3270 - 8s/epoch - 4ms/step\n",
      "Epoch 5/5\n",
      "1964/1964 - 8s - loss: 0.3600 - mse: 0.3397 - val_loss: 0.3268 - val_mse: 0.3268 - 8s/epoch - 4ms/step\n",
      "==================================================\n",
      "Step 3\n",
      "==================================================\n",
      "Epoch 1/5\n",
      "1964/1964 - 8s - loss: 0.3708 - mse: 0.3509 - val_loss: 0.3413 - val_mse: 0.3413 - 8s/epoch - 4ms/step\n",
      "Epoch 2/5\n",
      "1964/1964 - 8s - loss: 0.3649 - mse: 0.3456 - val_loss: 0.3407 - val_mse: 0.3407 - 8s/epoch - 4ms/step\n",
      "Epoch 3/5\n",
      "1964/1964 - 8s - loss: 0.3638 - mse: 0.3446 - val_loss: 0.3464 - val_mse: 0.3464 - 8s/epoch - 4ms/step\n",
      "Epoch 4/5\n",
      "1964/1964 - 8s - loss: 0.3631 - mse: 0.3440 - val_loss: 0.3561 - val_mse: 0.3561 - 8s/epoch - 4ms/step\n",
      "Epoch 5/5\n",
      "1964/1964 - 7s - loss: 0.3626 - mse: 0.3435 - val_loss: 0.3406 - val_mse: 0.3406 - 7s/epoch - 4ms/step\n",
      "==================================================\n",
      "Step 4\n",
      "==================================================\n",
      "Epoch 1/5\n",
      "1964/1964 - 8s - loss: 0.3993 - mse: 0.3774 - val_loss: 0.3555 - val_mse: 0.3555 - 8s/epoch - 4ms/step\n",
      "Epoch 2/5\n",
      "1964/1964 - 8s - loss: 0.3914 - mse: 0.3701 - val_loss: 0.3565 - val_mse: 0.3565 - 8s/epoch - 4ms/step\n",
      "Epoch 3/5\n",
      "1964/1964 - 8s - loss: 0.3902 - mse: 0.3690 - val_loss: 0.3542 - val_mse: 0.3542 - 8s/epoch - 4ms/step\n",
      "Epoch 4/5\n",
      "1964/1964 - 8s - loss: 0.3893 - mse: 0.3682 - val_loss: 0.3531 - val_mse: 0.3531 - 8s/epoch - 4ms/step\n",
      "Epoch 5/5\n",
      "1964/1964 - 8s - loss: 0.3893 - mse: 0.3682 - val_loss: 0.3572 - val_mse: 0.3572 - 8s/epoch - 4ms/step\n",
      "==================================================\n",
      "Step 5\n",
      "==================================================\n",
      "Epoch 1/5\n",
      "1964/1964 - 8s - loss: 0.4104 - mse: 0.3881 - val_loss: 0.3592 - val_mse: 0.3592 - 8s/epoch - 4ms/step\n",
      "Epoch 2/5\n",
      "1964/1964 - 8s - loss: 0.4029 - mse: 0.3811 - val_loss: 0.3570 - val_mse: 0.3570 - 8s/epoch - 4ms/step\n",
      "Epoch 3/5\n",
      "1964/1964 - 8s - loss: 0.4015 - mse: 0.3799 - val_loss: 0.3558 - val_mse: 0.3558 - 8s/epoch - 4ms/step\n",
      "Epoch 4/5\n",
      "1964/1964 - 8s - loss: 0.4003 - mse: 0.3788 - val_loss: 0.3563 - val_mse: 0.3563 - 8s/epoch - 4ms/step\n",
      "Epoch 5/5\n",
      "1964/1964 - 8s - loss: 0.3996 - mse: 0.3782 - val_loss: 0.3592 - val_mse: 0.3592 - 8s/epoch - 4ms/step\n",
      "==================================================\n",
      "Step 6\n",
      "==================================================\n",
      "Epoch 1/5\n",
      "1964/1964 - 8s - loss: 0.4004 - mse: 0.3775 - val_loss: 0.3605 - val_mse: 0.3605 - 8s/epoch - 4ms/step\n",
      "Epoch 2/5\n",
      "1964/1964 - 8s - loss: 0.3928 - mse: 0.3704 - val_loss: 0.3601 - val_mse: 0.3601 - 8s/epoch - 4ms/step\n",
      "Epoch 3/5\n",
      "1964/1964 - 8s - loss: 0.3916 - mse: 0.3693 - val_loss: 0.3628 - val_mse: 0.3628 - 8s/epoch - 4ms/step\n",
      "Epoch 4/5\n",
      "1964/1964 - 8s - loss: 0.3905 - mse: 0.3683 - val_loss: 0.3687 - val_mse: 0.3687 - 8s/epoch - 4ms/step\n",
      "Epoch 5/5\n",
      "1964/1964 - 8s - loss: 0.3902 - mse: 0.3680 - val_loss: 0.3637 - val_mse: 0.3637 - 8s/epoch - 4ms/step\n",
      "==================================================\n",
      "Step 7\n",
      "==================================================\n",
      "Epoch 1/5\n",
      "1964/1964 - 8s - loss: 0.3870 - mse: 0.3656 - val_loss: 0.4057 - val_mse: 0.4057 - 8s/epoch - 4ms/step\n",
      "Epoch 2/5\n",
      "1964/1964 - 8s - loss: 0.3815 - mse: 0.3607 - val_loss: 0.4129 - val_mse: 0.4129 - 8s/epoch - 4ms/step\n",
      "Epoch 3/5\n",
      "1964/1964 - 8s - loss: 0.3804 - mse: 0.3597 - val_loss: 0.4025 - val_mse: 0.4025 - 8s/epoch - 4ms/step\n",
      "Epoch 4/5\n",
      "1964/1964 - 8s - loss: 0.3795 - mse: 0.3589 - val_loss: 0.4361 - val_mse: 0.4361 - 8s/epoch - 4ms/step\n",
      "Epoch 5/5\n",
      "1964/1964 - 8s - loss: 0.3791 - mse: 0.3586 - val_loss: 0.4284 - val_mse: 0.4284 - 8s/epoch - 4ms/step\n",
      "==================================================\n",
      "Step 8\n",
      "==================================================\n",
      "Epoch 1/5\n",
      "1964/1964 - 8s - loss: 0.3750 - mse: 0.3558 - val_loss: 0.3976 - val_mse: 0.3976 - 8s/epoch - 4ms/step\n",
      "Epoch 2/5\n",
      "1964/1964 - 8s - loss: 0.3676 - mse: 0.3491 - val_loss: 0.3949 - val_mse: 0.3949 - 8s/epoch - 4ms/step\n",
      "Epoch 3/5\n",
      "1964/1964 - 8s - loss: 0.3663 - mse: 0.3480 - val_loss: 0.3980 - val_mse: 0.3980 - 8s/epoch - 4ms/step\n",
      "Epoch 4/5\n",
      "1964/1964 - 8s - loss: 0.3651 - mse: 0.3470 - val_loss: 0.3854 - val_mse: 0.3854 - 8s/epoch - 4ms/step\n",
      "Epoch 5/5\n",
      "1964/1964 - 8s - loss: 0.3647 - mse: 0.3466 - val_loss: 0.3935 - val_mse: 0.3935 - 8s/epoch - 4ms/step\n",
      "==================================================\n",
      "Step 9\n",
      "==================================================\n",
      "Epoch 1/5\n",
      "1964/1964 - 8s - loss: 0.3812 - mse: 0.3600 - val_loss: 0.3766 - val_mse: 0.3766 - 8s/epoch - 4ms/step\n",
      "Epoch 2/5\n",
      "1964/1964 - 8s - loss: 0.3752 - mse: 0.3544 - val_loss: 0.3760 - val_mse: 0.3760 - 8s/epoch - 4ms/step\n",
      "Epoch 3/5\n",
      "1964/1964 - 8s - loss: 0.3743 - mse: 0.3536 - val_loss: 0.3860 - val_mse: 0.3860 - 8s/epoch - 4ms/step\n",
      "Epoch 4/5\n",
      "1964/1964 - 8s - loss: 0.3735 - mse: 0.3529 - val_loss: 0.3865 - val_mse: 0.3865 - 8s/epoch - 4ms/step\n",
      "Epoch 5/5\n",
      "1964/1964 - 8s - loss: 0.3733 - mse: 0.3527 - val_loss: 0.3810 - val_mse: 0.3810 - 8s/epoch - 4ms/step\n",
      "==================================================\n",
      "Step 10\n",
      "==================================================\n",
      "Epoch 1/5\n",
      "1964/1964 - 8s - loss: 0.3880 - mse: 0.3676 - val_loss: 0.3763 - val_mse: 0.3763 - 8s/epoch - 4ms/step\n",
      "Epoch 2/5\n",
      "1964/1964 - 8s - loss: 0.3805 - mse: 0.3608 - val_loss: 0.3739 - val_mse: 0.3739 - 8s/epoch - 4ms/step\n",
      "Epoch 3/5\n",
      "1964/1964 - 8s - loss: 0.3791 - mse: 0.3595 - val_loss: 0.3820 - val_mse: 0.3820 - 8s/epoch - 4ms/step\n",
      "Epoch 4/5\n",
      "1964/1964 - 8s - loss: 0.3786 - mse: 0.3591 - val_loss: 0.3690 - val_mse: 0.3690 - 8s/epoch - 4ms/step\n",
      "Epoch 5/5\n",
      "1964/1964 - 8s - loss: 0.3776 - mse: 0.3582 - val_loss: 0.3730 - val_mse: 0.3730 - 8s/epoch - 4ms/step\n",
      "==================================================\n",
      "Step 11\n",
      "==================================================\n",
      "Epoch 1/5\n",
      "1964/1964 - 8s - loss: 0.4211 - mse: 0.3985 - val_loss: 0.3786 - val_mse: 0.3786 - 8s/epoch - 4ms/step\n",
      "Epoch 2/5\n",
      "1964/1964 - 8s - loss: 0.4123 - mse: 0.3904 - val_loss: 0.3776 - val_mse: 0.3776 - 8s/epoch - 4ms/step\n",
      "Epoch 3/5\n",
      "1964/1964 - 8s - loss: 0.4105 - mse: 0.3888 - val_loss: 0.3808 - val_mse: 0.3808 - 8s/epoch - 4ms/step\n",
      "Epoch 4/5\n",
      "1964/1964 - 8s - loss: 0.4100 - mse: 0.3883 - val_loss: 0.3768 - val_mse: 0.3768 - 8s/epoch - 4ms/step\n",
      "Epoch 5/5\n",
      "1964/1964 - 8s - loss: 0.4094 - mse: 0.3878 - val_loss: 0.3828 - val_mse: 0.3828 - 8s/epoch - 4ms/step\n",
      "==================================================\n",
      "Step 12\n",
      "==================================================\n",
      "Epoch 1/5\n",
      "1964/1964 - 8s - loss: 0.4326 - mse: 0.4098 - val_loss: 0.3889 - val_mse: 0.3889 - 8s/epoch - 4ms/step\n",
      "Epoch 2/5\n",
      "1964/1964 - 8s - loss: 0.4237 - mse: 0.4014 - val_loss: 0.3882 - val_mse: 0.3882 - 8s/epoch - 4ms/step\n",
      "Epoch 3/5\n",
      "1964/1964 - 8s - loss: 0.4221 - mse: 0.4000 - val_loss: 0.3890 - val_mse: 0.3890 - 8s/epoch - 4ms/step\n",
      "Epoch 4/5\n",
      "1964/1964 - 8s - loss: 0.4208 - mse: 0.3988 - val_loss: 0.3906 - val_mse: 0.3906 - 8s/epoch - 4ms/step\n",
      "Epoch 5/5\n",
      "1964/1964 - 8s - loss: 0.4202 - mse: 0.3983 - val_loss: 0.3880 - val_mse: 0.3880 - 8s/epoch - 4ms/step\n",
      "==================================================\n",
      "Step 13\n",
      "==================================================\n"
     ]
    },
    {
     "name": "stdout",
     "output_type": "stream",
     "text": [
      "Epoch 1/5\n",
      "1964/1964 - 9s - loss: 0.4143 - mse: 0.3911 - val_loss: 0.3798 - val_mse: 0.3798 - 9s/epoch - 4ms/step\n",
      "Epoch 2/5\n",
      "1964/1964 - 8s - loss: 0.4067 - mse: 0.3840 - val_loss: 0.3785 - val_mse: 0.3785 - 8s/epoch - 4ms/step\n",
      "Epoch 3/5\n",
      "1964/1964 - 8s - loss: 0.4052 - mse: 0.3827 - val_loss: 0.3793 - val_mse: 0.3793 - 8s/epoch - 4ms/step\n",
      "Epoch 4/5\n",
      "1964/1964 - 8s - loss: 0.4043 - mse: 0.3818 - val_loss: 0.3772 - val_mse: 0.3772 - 8s/epoch - 4ms/step\n",
      "Epoch 5/5\n",
      "1964/1964 - 8s - loss: 0.4041 - mse: 0.3816 - val_loss: 0.3780 - val_mse: 0.3780 - 8s/epoch - 4ms/step\n",
      "==================================================\n",
      "Step 14\n",
      "==================================================\n",
      "Epoch 1/5\n",
      "1964/1964 - 9s - loss: 0.3998 - mse: 0.3780 - val_loss: 0.3664 - val_mse: 0.3664 - 9s/epoch - 4ms/step\n",
      "Epoch 2/5\n",
      "1964/1964 - 8s - loss: 0.3937 - mse: 0.3725 - val_loss: 0.3716 - val_mse: 0.3716 - 8s/epoch - 4ms/step\n",
      "Epoch 3/5\n",
      "1964/1964 - 8s - loss: 0.3930 - mse: 0.3719 - val_loss: 0.3651 - val_mse: 0.3651 - 8s/epoch - 4ms/step\n",
      "Epoch 4/5\n",
      "1964/1964 - 8s - loss: 0.3921 - mse: 0.3710 - val_loss: 0.3641 - val_mse: 0.3641 - 8s/epoch - 4ms/step\n",
      "Epoch 5/5\n",
      "1964/1964 - 8s - loss: 0.3916 - mse: 0.3706 - val_loss: 0.3651 - val_mse: 0.3651 - 8s/epoch - 4ms/step\n",
      "==================================================\n",
      "Step 15\n",
      "==================================================\n",
      "Epoch 1/5\n",
      "1964/1964 - 9s - loss: 0.3879 - mse: 0.3683 - val_loss: 0.3551 - val_mse: 0.3551 - 9s/epoch - 4ms/step\n",
      "Epoch 2/5\n",
      "1964/1964 - 8s - loss: 0.3810 - mse: 0.3622 - val_loss: 0.3548 - val_mse: 0.3548 - 8s/epoch - 4ms/step\n",
      "Epoch 3/5\n",
      "1964/1964 - 8s - loss: 0.3793 - mse: 0.3606 - val_loss: 0.3510 - val_mse: 0.3510 - 8s/epoch - 4ms/step\n",
      "Epoch 4/5\n",
      "1964/1964 - 8s - loss: 0.3787 - mse: 0.3600 - val_loss: 0.3510 - val_mse: 0.3510 - 8s/epoch - 4ms/step\n",
      "Epoch 5/5\n",
      "1964/1964 - 8s - loss: 0.3783 - mse: 0.3597 - val_loss: 0.3531 - val_mse: 0.3531 - 8s/epoch - 4ms/step\n",
      "==================================================\n",
      "Step 16\n",
      "==================================================\n",
      "Epoch 1/5\n",
      "1964/1964 - 9s - loss: 0.3969 - mse: 0.3750 - val_loss: 0.3742 - val_mse: 0.3742 - 9s/epoch - 4ms/step\n",
      "Epoch 2/5\n",
      "1964/1964 - 8s - loss: 0.3907 - mse: 0.3693 - val_loss: 0.3739 - val_mse: 0.3739 - 8s/epoch - 4ms/step\n",
      "Epoch 3/5\n",
      "1964/1964 - 8s - loss: 0.3895 - mse: 0.3681 - val_loss: 0.3731 - val_mse: 0.3731 - 8s/epoch - 4ms/step\n",
      "Epoch 4/5\n",
      "1964/1964 - 8s - loss: 0.3891 - mse: 0.3678 - val_loss: 0.3739 - val_mse: 0.3739 - 8s/epoch - 4ms/step\n",
      "Epoch 5/5\n",
      "1964/1964 - 8s - loss: 0.3886 - mse: 0.3674 - val_loss: 0.3735 - val_mse: 0.3735 - 8s/epoch - 4ms/step\n"
     ]
    }
   ],
   "source": [
    "N_EPOCHS = 5\n",
    "\n",
    "val_pred = []\n",
    "test_pred = []\n",
    "# wtpath = 'weights.hdf5'  # To save best epoch. But need Keras bug to be fixed first.\n",
    "sample_weights=np.array( pd.concat([items[\"perishable\"]] * 6) * 0.25 + 1 )\n",
    "for i in range(16):\n",
    "    print(\"=\" * 50)\n",
    "    print(\"Step %d\" % (i+1))\n",
    "    print(\"=\" * 50)\n",
    "    y = y_train[:, i]\n",
    "    xv = X_val\n",
    "    yv = y_val[:, i]\n",
    "    model.fit(X_train, y, batch_size = 512, epochs = N_EPOCHS, verbose=2,\n",
    "               sample_weight=sample_weights, validation_data=(xv,yv) ) \n",
    "    val_pred.append(model.predict(X_val))\n",
    "    test_pred.append(model.predict(X_test))"
   ]
  },
  {
   "cell_type": "code",
   "execution_count": 11,
   "id": "aa667250",
   "metadata": {},
   "outputs": [
    {
     "name": "stdout",
     "output_type": "stream",
     "text": [
      "Unweighted validation mse:  0.36650037801433366\n",
      "Full validation mse:        0.36597097080926233\n",
      "'Public' validation mse:    0.3370075289959559\n",
      "'Private' validation mse:   0.37913617163349256\n"
     ]
    }
   ],
   "source": [
    "n_public = 5 # Number of days in public test set\n",
    "weights=pd.concat([items[\"perishable\"]]) * 0.25 + 1\n",
    "print(\"Unweighted validation mse: \", mean_squared_error(\n",
    "    y_val, np.array(val_pred).squeeze(axis=2).transpose()) )\n",
    "print(\"Full validation mse:       \", mean_squared_error(\n",
    "    y_val, np.array(val_pred).squeeze(axis=2).transpose(), sample_weight=weights) )\n",
    "print(\"'Public' validation mse:   \", mean_squared_error(\n",
    "    y_val[:,:n_public], np.array(val_pred).squeeze(axis=2).transpose()[:,:n_public], \n",
    "    sample_weight=weights) )\n",
    "print(\"'Private' validation mse:  \", mean_squared_error(\n",
    "    y_val[:,n_public:], np.array(val_pred).squeeze(axis=2).transpose()[:,n_public:], \n",
    "    sample_weight=weights) )\n",
    "    \n",
    "y_test = np.array(test_pred).squeeze(axis=2).transpose()\n",
    "df_preds = pd.DataFrame(\n",
    "    y_test, index=stores_items.index,\n",
    "    columns=pd.date_range(\"2017-08-16\", periods=16)\n",
    ").stack().to_frame(\"unit_sales\")\n",
    "df_preds.index.set_names([\"store_nbr\", \"item_nbr\", \"date\"], inplace=True)\n",
    "\n",
    "submission = test_ids.join(df_preds, how=\"left\").fillna(0)\n",
    "submission[\"unit_sales\"] = np.clip(np.expm1(submission[\"unit_sales\"]), 0, 1000)\n",
    "submission.to_csv('lstm.csv', float_format='%.4f', index=None)"
   ]
  },
  {
   "cell_type": "code",
   "execution_count": 25,
   "id": "1db8ef15",
   "metadata": {},
   "outputs": [
    {
     "data": {
      "text/plain": [
       "40"
      ]
     },
     "execution_count": 25,
     "metadata": {},
     "output_type": "execute_result"
    }
   ],
   "source": [
    "X_train.shape"
   ]
  },
  {
   "cell_type": "code",
   "execution_count": 23,
   "id": "4c3822ef",
   "metadata": {},
   "outputs": [
    {
     "data": {
      "text/plain": [
       "1005090"
      ]
     },
     "execution_count": 23,
     "metadata": {},
     "output_type": "execute_result"
    }
   ],
   "source": [
    "len(y_train[:, 1])"
   ]
  },
  {
   "cell_type": "code",
   "execution_count": 18,
   "id": "527fca4f",
   "metadata": {},
   "outputs": [
    {
     "data": {
      "text/plain": [
       "(167515, 1, 40)"
      ]
     },
     "execution_count": 18,
     "metadata": {},
     "output_type": "execute_result"
    }
   ],
   "source": [
    "X_test.shape"
   ]
  },
  {
   "cell_type": "code",
   "execution_count": 20,
   "id": "143246b5",
   "metadata": {},
   "outputs": [
    {
     "data": {
      "text/plain": [
       "(167515, 1, 40)"
      ]
     },
     "execution_count": 20,
     "metadata": {},
     "output_type": "execute_result"
    }
   ],
   "source": [
    "X_val.shape"
   ]
  },
  {
   "cell_type": "code",
   "execution_count": 21,
   "id": "f4b77806",
   "metadata": {},
   "outputs": [
    {
     "data": {
      "text/plain": [
       "(167515, 16)"
      ]
     },
     "execution_count": 21,
     "metadata": {},
     "output_type": "execute_result"
    }
   ],
   "source": [
    "y_val.shape"
   ]
  }
 ],
 "metadata": {
  "kernelspec": {
   "display_name": "Python 3 (ipykernel)",
   "language": "python",
   "name": "python3"
  },
  "language_info": {
   "codemirror_mode": {
    "name": "ipython",
    "version": 3
   },
   "file_extension": ".py",
   "mimetype": "text/x-python",
   "name": "python",
   "nbconvert_exporter": "python",
   "pygments_lexer": "ipython3",
   "version": "3.8.13"
  }
 },
 "nbformat": 4,
 "nbformat_minor": 5
}
