{
 "cells": [
  {
   "cell_type": "code",
   "execution_count": 31,
   "id": "e0f382c6",
   "metadata": {},
   "outputs": [
    {
     "name": "stdout",
     "output_type": "stream",
     "text": [
      "cuda on :  True\n"
     ]
    }
   ],
   "source": [
    "import pandas as pd\n",
    "import numpy as np\n",
    "import torch\n",
    "import torch.nn as nn\n",
    "\n",
    "import zipfile\n",
    "import warnings\n",
    "warnings.filterwarnings('ignore')\n",
    "\n",
    "import torch.nn.functional as F\n",
    "from torch.utils.data import Dataset, DataLoader\n",
    "from torchcontrib.optim import SWA\n",
    "\n",
    "from sklearn.metrics import recall_score\n",
    "from sklearn.utils import shuffle\n",
    "from sklearn.model_selection import RepeatedStratifiedKFold\n",
    "from iterstrat.ml_stratifiers import MultilabelStratifiedKFold\n",
    "from sklearn.metrics import f1_score\n",
    "\n",
    "import albumentations as A\n",
    "from albumentations.pytorch import ToTensorV2\n",
    "\n",
    "import matplotlib.pyplot as plt\n",
    "import seaborn as sns\n",
    "from PIL import Image\n",
    "import cv2\n",
    "import gc\n",
    "\n",
    "\n",
    "import joblib\n",
    "from tqdm.auto import tqdm\n",
    "print('cuda on : ', torch.cuda.is_available())"
   ]
  },
  {
   "cell_type": "code",
   "execution_count": 32,
   "id": "d41b5eb0",
   "metadata": {},
   "outputs": [],
   "source": [
    "name_label_dict = {\n",
    "0:  'Nucleoplasm',\n",
    "1:  'Nuclear membrane',\n",
    "2:  'Nucleoli',   \n",
    "3:  'Nucleoli fibrillar center',\n",
    "4:  'Nuclear speckles',\n",
    "5:  'Nuclear bodies',\n",
    "6:  'Endoplasmic reticulum',   \n",
    "7:  'Golgi apparatus',\n",
    "8:  'Peroxisomes',\n",
    "9:  'Endosomes',\n",
    "10:  'Lysosomes',\n",
    "11:  'Intermediate filaments',\n",
    "12:  'Actin filaments',\n",
    "13:  'Focal adhesion sites',   \n",
    "14:  'Microtubules',\n",
    "15:  'Microtubule ends',  \n",
    "16:  'Cytokinetic bridge',   \n",
    "17:  'Mitotic spindle',\n",
    "18:  'Microtubule organizing center',  \n",
    "19:  'Centrosome',\n",
    "20:  'Lipid droplets',\n",
    "21:  'Plasma membrane',   \n",
    "22:  'Cell junctions', \n",
    "23:  'Mitochondria',\n",
    "24:  'Aggresome',\n",
    "25:  'Cytosol',\n",
    "26:  'Cytoplasmic bodies',   \n",
    "27:  'Rods & rings' }"
   ]
  },
  {
   "cell_type": "code",
   "execution_count": 33,
   "id": "dcee27cb",
   "metadata": {},
   "outputs": [],
   "source": [
    "data_dir = \"/Users/asdlk/Downloads\""
   ]
  },
  {
   "cell_type": "code",
   "execution_count": 34,
   "id": "f9278eb7",
   "metadata": {},
   "outputs": [],
   "source": [
    "en1 = pd.read_csv(f'{data_dir}/Resn_4ch_TTA_42ep_TTAmax8.csv')"
   ]
  },
  {
   "cell_type": "code",
   "execution_count": 35,
   "id": "f36498c8",
   "metadata": {},
   "outputs": [],
   "source": [
    "en2 = pd.read_csv(f'{data_dir}/Effv2_b3_4ch_Ran__20ep_TTAmax8.csv')"
   ]
  },
  {
   "cell_type": "code",
   "execution_count": 36,
   "id": "b4ea20cb",
   "metadata": {},
   "outputs": [],
   "source": [
    "en3 = pd.read_csv(f'{data_dir}/Resnet34_TTA_bce_43ep_TTA(8).csv') #protein_classification_TTA.csv"
   ]
  },
  {
   "cell_type": "code",
   "execution_count": 37,
   "id": "64942c5c",
   "metadata": {},
   "outputs": [],
   "source": [
    "reverse_train_labels = dict((v,k) for k,v in name_label_dict.items())"
   ]
  },
  {
   "cell_type": "code",
   "execution_count": 38,
   "id": "971181ec",
   "metadata": {},
   "outputs": [],
   "source": [
    "for key in name_label_dict.keys():\n",
    "    en1[name_label_dict[key]] = 0\n",
    "for key in name_label_dict.keys():\n",
    "    en2[name_label_dict[key]] = 0\n",
    "for key in name_label_dict.keys():\n",
    "    en3[name_label_dict[key]] = 0"
   ]
  },
  {
   "cell_type": "code",
   "execution_count": 39,
   "id": "90bf439f",
   "metadata": {},
   "outputs": [],
   "source": [
    "en1[en1.Predicted.isnull()] = '-1'\n",
    "en2[en2.Predicted.isnull()] = '-1'\n",
    "en3[en3.Predicted.isnull()] = '-1'"
   ]
  },
  {
   "cell_type": "code",
   "execution_count": 40,
   "id": "c0cebffd",
   "metadata": {
    "scrolled": true
   },
   "outputs": [],
   "source": [
    "def fill_targets(row):\n",
    "    row.Predicted = np.array(row.Predicted.split(\" \")).astype(np.int)  # label -> list(int)로 변경 index matching\n",
    "    for num in row.Predicted:\n",
    "        try:\n",
    "            name = name_label_dict[int(num)]\n",
    "            row.loc[name] = 1\n",
    "        except:\n",
    "            pass\n",
    "    return row\n",
    "\n",
    "en1 = en1.apply(fill_targets, axis=1)   #label_dict와 Target match\n",
    "en2 = en2.apply(fill_targets, axis=1) \n",
    "en3 = en3.apply(fill_targets, axis=1) "
   ]
  },
  {
   "cell_type": "code",
   "execution_count": 41,
   "id": "7feb5df3",
   "metadata": {},
   "outputs": [],
   "source": [
    "e1 = en1.iloc[:,2:]"
   ]
  },
  {
   "cell_type": "code",
   "execution_count": 42,
   "id": "5f437647",
   "metadata": {},
   "outputs": [],
   "source": [
    "e2 = en2.iloc[:,2:]"
   ]
  },
  {
   "cell_type": "code",
   "execution_count": 43,
   "id": "b1c4f621",
   "metadata": {},
   "outputs": [],
   "source": [
    "e3 = en3.iloc[:,2:]"
   ]
  },
  {
   "cell_type": "code",
   "execution_count": 44,
   "id": "401bf7e1",
   "metadata": {},
   "outputs": [],
   "source": [
    "e1 = np.array(e1).astype('int')"
   ]
  },
  {
   "cell_type": "code",
   "execution_count": 45,
   "id": "bf215958",
   "metadata": {},
   "outputs": [],
   "source": [
    "e2 = np.array(e2).astype('int')"
   ]
  },
  {
   "cell_type": "code",
   "execution_count": 46,
   "id": "f5950413",
   "metadata": {},
   "outputs": [],
   "source": [
    "e3 = np.array(e3).astype('int')"
   ]
  },
  {
   "cell_type": "code",
   "execution_count": 47,
   "id": "d4aa9f5e",
   "metadata": {},
   "outputs": [],
   "source": [
    "ensemble = e1 + e2 + e3\n"
   ]
  },
  {
   "cell_type": "code",
   "execution_count": 48,
   "id": "39cea410",
   "metadata": {},
   "outputs": [],
   "source": [
    "ensemble = np.where(ensemble >= 3, 1, 0)"
   ]
  },
  {
   "cell_type": "code",
   "execution_count": 49,
   "id": "1d25fdf4",
   "metadata": {},
   "outputs": [],
   "source": [
    "submit = pd.read_csv(f'/Users/asdlk/Desktop/workplace/Inputs/human-protein-atlas-image-classification/sample_submission.csv')"
   ]
  },
  {
   "cell_type": "code",
   "execution_count": 50,
   "id": "1201959d",
   "metadata": {},
   "outputs": [],
   "source": [
    "def save_pred(pred, th=0.5, fname= 'ensemble_vote_3'):\n",
    "    pred_list = []\n",
    "    for line in tqdm(pred):\n",
    "        s = ' '.join(list([str(i) for i in np.nonzero(line >th)[0]]))\n",
    "        pred_list.append(s)\n",
    "    submit['Predicted'] = pred_list\n",
    "    submit.to_csv(f'./{fname}.csv',  index=False)\n"
   ]
  },
  {
   "cell_type": "code",
   "execution_count": 51,
   "id": "a46f9dd5",
   "metadata": {},
   "outputs": [
    {
     "data": {
      "application/vnd.jupyter.widget-view+json": {
       "model_id": "25846e04344f4d648209c66241c64f4c",
       "version_major": 2,
       "version_minor": 0
      },
      "text/plain": [
       "  0%|          | 0/11702 [00:00<?, ?it/s]"
      ]
     },
     "metadata": {},
     "output_type": "display_data"
    }
   ],
   "source": [
    "save_pred(ensemble)"
   ]
  },
  {
   "cell_type": "code",
   "execution_count": 22,
   "id": "871c3d0f",
   "metadata": {},
   "outputs": [
    {
     "data": {
      "text/plain": [
       "0"
      ]
     },
     "execution_count": 22,
     "metadata": {},
     "output_type": "execute_result"
    }
   ],
   "source": [
    "\n",
    "0 % 5"
   ]
  },
  {
   "cell_type": "code",
   "execution_count": 23,
   "id": "4c421f88",
   "metadata": {},
   "outputs": [
    {
     "data": {
      "text/plain": [
       "1"
      ]
     },
     "execution_count": 23,
     "metadata": {},
     "output_type": "execute_result"
    }
   ],
   "source": [
    "1 % 5 "
   ]
  },
  {
   "cell_type": "code",
   "execution_count": 24,
   "id": "3dd35e79",
   "metadata": {},
   "outputs": [
    {
     "data": {
      "text/plain": [
       "0"
      ]
     },
     "execution_count": 24,
     "metadata": {},
     "output_type": "execute_result"
    }
   ],
   "source": [
    "5 % 5"
   ]
  },
  {
   "cell_type": "code",
   "execution_count": 25,
   "id": "755a8bff",
   "metadata": {},
   "outputs": [
    {
     "data": {
      "text/plain": [
       "0"
      ]
     },
     "execution_count": 25,
     "metadata": {},
     "output_type": "execute_result"
    }
   ],
   "source": [
    "0 // 5"
   ]
  },
  {
   "cell_type": "code",
   "execution_count": 26,
   "id": "3a078698",
   "metadata": {},
   "outputs": [
    {
     "data": {
      "text/plain": [
       "0"
      ]
     },
     "execution_count": 26,
     "metadata": {},
     "output_type": "execute_result"
    }
   ],
   "source": [
    "1 //5"
   ]
  },
  {
   "cell_type": "code",
   "execution_count": 27,
   "id": "ef89c807",
   "metadata": {},
   "outputs": [
    {
     "data": {
      "text/plain": [
       "0"
      ]
     },
     "execution_count": 27,
     "metadata": {},
     "output_type": "execute_result"
    }
   ],
   "source": [
    "2 // 5"
   ]
  },
  {
   "cell_type": "code",
   "execution_count": 28,
   "id": "be66fb9f",
   "metadata": {},
   "outputs": [
    {
     "data": {
      "text/plain": [
       "1"
      ]
     },
     "execution_count": 28,
     "metadata": {},
     "output_type": "execute_result"
    }
   ],
   "source": [
    "5 // 5"
   ]
  },
  {
   "cell_type": "code",
   "execution_count": 29,
   "id": "cf637620",
   "metadata": {},
   "outputs": [
    {
     "data": {
      "text/plain": [
       "1"
      ]
     },
     "execution_count": 29,
     "metadata": {},
     "output_type": "execute_result"
    }
   ],
   "source": [
    "6 // 5"
   ]
  },
  {
   "cell_type": "code",
   "execution_count": 30,
   "id": "0f9db48e",
   "metadata": {},
   "outputs": [
    {
     "data": {
      "text/plain": [
       "2"
      ]
     },
     "execution_count": 30,
     "metadata": {},
     "output_type": "execute_result"
    }
   ],
   "source": [
    "10 // 5"
   ]
  },
  {
   "cell_type": "code",
   "execution_count": null,
   "id": "95801d2d",
   "metadata": {},
   "outputs": [],
   "source": []
  }
 ],
 "metadata": {
  "kernelspec": {
   "display_name": "Python 3 (ipykernel)",
   "language": "python",
   "name": "python3"
  },
  "language_info": {
   "codemirror_mode": {
    "name": "ipython",
    "version": 3
   },
   "file_extension": ".py",
   "mimetype": "text/x-python",
   "name": "python",
   "nbconvert_exporter": "python",
   "pygments_lexer": "ipython3",
   "version": "3.8.0"
  }
 },
 "nbformat": 4,
 "nbformat_minor": 5
}
