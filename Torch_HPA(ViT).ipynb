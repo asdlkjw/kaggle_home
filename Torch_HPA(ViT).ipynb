{
 "cells": [
  {
   "cell_type": "code",
   "execution_count": 1,
   "id": "1c1b7965",
   "metadata": {},
   "outputs": [
    {
     "name": "stdout",
     "output_type": "stream",
     "text": [
      "cuda on :  True\n"
     ]
    }
   ],
   "source": [
    "import pandas as pd\n",
    "import numpy as np\n",
    "import torch\n",
    "import torch.nn as nn\n",
    "\n",
    "import zipfile\n",
    "import warnings\n",
    "warnings.filterwarnings('ignore')\n",
    "\n",
    "import torch.nn.functional as F\n",
    "from torch.utils.data import Dataset, DataLoader\n",
    "from torchcontrib.optim import SWA\n",
    "from torch.optim.lr_scheduler import _LRScheduler\n",
    "from torchcontrib.optim import SWA\n",
    "   \n",
    "from sklearn.metrics import recall_score\n",
    "from sklearn.utils import shuffle\n",
    "from sklearn.model_selection import RepeatedStratifiedKFold\n",
    "from iterstrat.ml_stratifiers import MultilabelStratifiedKFold\n",
    "from sklearn.metrics import f1_score\n",
    "\n",
    "import albumentations as A\n",
    "from albumentations.pytorch import ToTensorV2\n",
    "\n",
    "import matplotlib.pyplot as plt\n",
    "import seaborn as sns\n",
    "from PIL import Image\n",
    "import cv2\n",
    "import math\n",
    "\n",
    "\n",
    "import joblib\n",
    "from tqdm.auto import tqdm\n",
    "print('cuda on : ', torch.cuda.is_available())"
   ]
  },
  {
   "cell_type": "code",
   "execution_count": 2,
   "id": "ea616b54",
   "metadata": {},
   "outputs": [],
   "source": [
    "import os\n",
    "os.environ[\"CUDA_DEVICE_ORDER\"]=\"PCI_BUS_ID\"   # see issue #152\n",
    "os.environ[\"CUDA_VISIBLE_DEVICES\"]=\"0\""
   ]
  },
  {
   "cell_type": "code",
   "execution_count": 3,
   "id": "9ab9dbe3",
   "metadata": {},
   "outputs": [],
   "source": [
    "name_label_dict = {\n",
    "0:  'Nucleoplasm',\n",
    "1:  'Nuclear membrane',\n",
    "2:  'Nucleoli',   \n",
    "3:  'Nucleoli fibrillar center',\n",
    "4:  'Nuclear speckles',\n",
    "5:  'Nuclear bodies',\n",
    "6:  'Endoplasmic reticulum',   \n",
    "7:  'Golgi apparatus',\n",
    "8:  'Peroxisomes',\n",
    "9:  'Endosomes',\n",
    "10:  'Lysosomes',\n",
    "11:  'Intermediate filaments',\n",
    "12:  'Actin filaments',\n",
    "13:  'Focal adhesion sites',   \n",
    "14:  'Microtubules',\n",
    "15:  'Microtubule ends',  \n",
    "16:  'Cytokinetic bridge',   \n",
    "17:  'Mitotic spindle',\n",
    "18:  'Microtubule organizing center',  \n",
    "19:  'Centrosome',\n",
    "20:  'Lipid droplets',\n",
    "21:  'Plasma membrane',   \n",
    "22:  'Cell junctions', \n",
    "23:  'Mitochondria',\n",
    "24:  'Aggresome',\n",
    "25:  'Cytosol',\n",
    "26:  'Cytoplasmic bodies',   \n",
    "27:  'Rods & rings' }"
   ]
  },
  {
   "cell_type": "code",
   "execution_count": 87,
   "id": "ff679e61",
   "metadata": {},
   "outputs": [],
   "source": [
    "# config\n",
    "\n",
    "index = 0\n",
    "HEIGHT = 224\n",
    "WIDTH = 224\n",
    "\n",
    "data_dir = \"../Inputs/human-protein-atlas-image-classification/\"\n"
   ]
  },
  {
   "cell_type": "code",
   "execution_count": 88,
   "id": "bdce049c",
   "metadata": {},
   "outputs": [],
   "source": [
    "df_train = pd.read_csv(f'{data_dir}/train.csv')"
   ]
  },
  {
   "cell_type": "code",
   "execution_count": 89,
   "id": "75a25519",
   "metadata": {
    "scrolled": true
   },
   "outputs": [
    {
     "name": "stdout",
     "output_type": "stream",
     "text": [
      "CPU times: total: 0 ns\n",
      "Wall time: 1 ms\n"
     ]
    },
    {
     "data": {
      "text/html": [
       "<div>\n",
       "<style scoped>\n",
       "    .dataframe tbody tr th:only-of-type {\n",
       "        vertical-align: middle;\n",
       "    }\n",
       "\n",
       "    .dataframe tbody tr th {\n",
       "        vertical-align: top;\n",
       "    }\n",
       "\n",
       "    .dataframe thead th {\n",
       "        text-align: right;\n",
       "    }\n",
       "</style>\n",
       "<table border=\"1\" class=\"dataframe\">\n",
       "  <thead>\n",
       "    <tr style=\"text-align: right;\">\n",
       "      <th></th>\n",
       "      <th>Id</th>\n",
       "      <th>Target</th>\n",
       "    </tr>\n",
       "  </thead>\n",
       "  <tbody>\n",
       "    <tr>\n",
       "      <th>0</th>\n",
       "      <td>00070df0-bbc3-11e8-b2bc-ac1f6b6435d0</td>\n",
       "      <td>16 0</td>\n",
       "    </tr>\n",
       "    <tr>\n",
       "      <th>1</th>\n",
       "      <td>000a6c98-bb9b-11e8-b2b9-ac1f6b6435d0</td>\n",
       "      <td>7 1 2 0</td>\n",
       "    </tr>\n",
       "    <tr>\n",
       "      <th>2</th>\n",
       "      <td>000a9596-bbc4-11e8-b2bc-ac1f6b6435d0</td>\n",
       "      <td>5</td>\n",
       "    </tr>\n",
       "    <tr>\n",
       "      <th>3</th>\n",
       "      <td>000c99ba-bba4-11e8-b2b9-ac1f6b6435d0</td>\n",
       "      <td>1</td>\n",
       "    </tr>\n",
       "    <tr>\n",
       "      <th>4</th>\n",
       "      <td>001838f8-bbca-11e8-b2bc-ac1f6b6435d0</td>\n",
       "      <td>18</td>\n",
       "    </tr>\n",
       "  </tbody>\n",
       "</table>\n",
       "</div>"
      ],
      "text/plain": [
       "                                     Id   Target\n",
       "0  00070df0-bbc3-11e8-b2bc-ac1f6b6435d0     16 0\n",
       "1  000a6c98-bb9b-11e8-b2b9-ac1f6b6435d0  7 1 2 0\n",
       "2  000a9596-bbc4-11e8-b2bc-ac1f6b6435d0        5\n",
       "3  000c99ba-bba4-11e8-b2b9-ac1f6b6435d0        1\n",
       "4  001838f8-bbca-11e8-b2bc-ac1f6b6435d0       18"
      ]
     },
     "execution_count": 89,
     "metadata": {},
     "output_type": "execute_result"
    }
   ],
   "source": [
    "%%time\n",
    "df_train.head()"
   ]
  },
  {
   "cell_type": "code",
   "execution_count": 90,
   "id": "000a2e25",
   "metadata": {},
   "outputs": [],
   "source": [
    "pseudo = pd.read_csv(f'{data_dir}/ef-Kfold-3.csv')\n",
    "pseudo = pseudo.drop( pseudo[pseudo.Predicted.isnull()].index ).reset_index(drop= True)\n",
    "pseudo.columns = ['Id', 'Target']\n",
    "df_train = pseudo\n",
    "df_train.head()"
   ]
  },
  {
   "cell_type": "markdown",
   "id": "0031b54d",
   "metadata": {},
   "source": [
    "# EDA"
   ]
  },
  {
   "cell_type": "code",
   "execution_count": 96,
   "id": "68ed367d",
   "metadata": {},
   "outputs": [],
   "source": [
    "reverse_train_labels = dict((v,k) for k,v in name_label_dict.items())"
   ]
  },
  {
   "cell_type": "code",
   "execution_count": 97,
   "id": "c4c5a199",
   "metadata": {
    "scrolled": true
   },
   "outputs": [
    {
     "data": {
      "text/plain": [
       "{'Nucleoplasm': 0,\n",
       " 'Nuclear membrane': 1,\n",
       " 'Nucleoli': 2,\n",
       " 'Nucleoli fibrillar center': 3,\n",
       " 'Nuclear speckles': 4,\n",
       " 'Nuclear bodies': 5,\n",
       " 'Endoplasmic reticulum': 6,\n",
       " 'Golgi apparatus': 7,\n",
       " 'Peroxisomes': 8,\n",
       " 'Endosomes': 9,\n",
       " 'Lysosomes': 10,\n",
       " 'Intermediate filaments': 11,\n",
       " 'Actin filaments': 12,\n",
       " 'Focal adhesion sites': 13,\n",
       " 'Microtubules': 14,\n",
       " 'Microtubule ends': 15,\n",
       " 'Cytokinetic bridge': 16,\n",
       " 'Mitotic spindle': 17,\n",
       " 'Microtubule organizing center': 18,\n",
       " 'Centrosome': 19,\n",
       " 'Lipid droplets': 20,\n",
       " 'Plasma membrane': 21,\n",
       " 'Cell junctions': 22,\n",
       " 'Mitochondria': 23,\n",
       " 'Aggresome': 24,\n",
       " 'Cytosol': 25,\n",
       " 'Cytoplasmic bodies': 26,\n",
       " 'Rods & rings': 27}"
      ]
     },
     "execution_count": 97,
     "metadata": {},
     "output_type": "execute_result"
    }
   ],
   "source": [
    "reverse_train_labels"
   ]
  },
  {
   "cell_type": "code",
   "execution_count": 98,
   "id": "c05e49dd",
   "metadata": {},
   "outputs": [],
   "source": [
    "for key in name_label_dict.keys():\n",
    "    df_train[name_label_dict[key]] = 0"
   ]
  },
  {
   "cell_type": "code",
   "execution_count": 99,
   "id": "515f15b1",
   "metadata": {},
   "outputs": [],
   "source": [
    "def fill_targets(row):\n",
    "    row.Target = np.array(row.Target.split(\" \")).astype(np.int)  # label -> list(int)로 변경 index matching\n",
    "    for num in (row.Target):\n",
    "        name = name_label_dict[int(num)]\n",
    "        row.loc[name] = 1\n",
    "    return row"
   ]
  },
  {
   "cell_type": "code",
   "execution_count": 100,
   "id": "5986042d",
   "metadata": {
    "scrolled": true
   },
   "outputs": [
    {
     "data": {
      "text/html": [
       "<div>\n",
       "<style scoped>\n",
       "    .dataframe tbody tr th:only-of-type {\n",
       "        vertical-align: middle;\n",
       "    }\n",
       "\n",
       "    .dataframe tbody tr th {\n",
       "        vertical-align: top;\n",
       "    }\n",
       "\n",
       "    .dataframe thead th {\n",
       "        text-align: right;\n",
       "    }\n",
       "</style>\n",
       "<table border=\"1\" class=\"dataframe\">\n",
       "  <thead>\n",
       "    <tr style=\"text-align: right;\">\n",
       "      <th></th>\n",
       "      <th>Id</th>\n",
       "      <th>Target</th>\n",
       "      <th>Nucleoplasm</th>\n",
       "      <th>Nuclear membrane</th>\n",
       "      <th>Nucleoli</th>\n",
       "      <th>Nucleoli fibrillar center</th>\n",
       "      <th>Nuclear speckles</th>\n",
       "      <th>Nuclear bodies</th>\n",
       "      <th>Endoplasmic reticulum</th>\n",
       "      <th>Golgi apparatus</th>\n",
       "      <th>...</th>\n",
       "      <th>Microtubule organizing center</th>\n",
       "      <th>Centrosome</th>\n",
       "      <th>Lipid droplets</th>\n",
       "      <th>Plasma membrane</th>\n",
       "      <th>Cell junctions</th>\n",
       "      <th>Mitochondria</th>\n",
       "      <th>Aggresome</th>\n",
       "      <th>Cytosol</th>\n",
       "      <th>Cytoplasmic bodies</th>\n",
       "      <th>Rods &amp; rings</th>\n",
       "    </tr>\n",
       "  </thead>\n",
       "  <tbody>\n",
       "    <tr>\n",
       "      <th>0</th>\n",
       "      <td>00008af0-bad0-11e8-b2b8-ac1f6b6435d0</td>\n",
       "      <td>[2]</td>\n",
       "      <td>0</td>\n",
       "      <td>0</td>\n",
       "      <td>1</td>\n",
       "      <td>0</td>\n",
       "      <td>0</td>\n",
       "      <td>0</td>\n",
       "      <td>0</td>\n",
       "      <td>0</td>\n",
       "      <td>...</td>\n",
       "      <td>0</td>\n",
       "      <td>0</td>\n",
       "      <td>0</td>\n",
       "      <td>0</td>\n",
       "      <td>0</td>\n",
       "      <td>0</td>\n",
       "      <td>0</td>\n",
       "      <td>0</td>\n",
       "      <td>0</td>\n",
       "      <td>0</td>\n",
       "    </tr>\n",
       "    <tr>\n",
       "      <th>1</th>\n",
       "      <td>0000a892-bacf-11e8-b2b8-ac1f6b6435d0</td>\n",
       "      <td>[5, 25]</td>\n",
       "      <td>0</td>\n",
       "      <td>0</td>\n",
       "      <td>0</td>\n",
       "      <td>0</td>\n",
       "      <td>0</td>\n",
       "      <td>1</td>\n",
       "      <td>0</td>\n",
       "      <td>0</td>\n",
       "      <td>...</td>\n",
       "      <td>0</td>\n",
       "      <td>0</td>\n",
       "      <td>0</td>\n",
       "      <td>0</td>\n",
       "      <td>0</td>\n",
       "      <td>0</td>\n",
       "      <td>0</td>\n",
       "      <td>1</td>\n",
       "      <td>0</td>\n",
       "      <td>0</td>\n",
       "    </tr>\n",
       "    <tr>\n",
       "      <th>2</th>\n",
       "      <td>0006faa6-bac7-11e8-b2b7-ac1f6b6435d0</td>\n",
       "      <td>[0, 25]</td>\n",
       "      <td>1</td>\n",
       "      <td>0</td>\n",
       "      <td>0</td>\n",
       "      <td>0</td>\n",
       "      <td>0</td>\n",
       "      <td>0</td>\n",
       "      <td>0</td>\n",
       "      <td>0</td>\n",
       "      <td>...</td>\n",
       "      <td>0</td>\n",
       "      <td>0</td>\n",
       "      <td>0</td>\n",
       "      <td>0</td>\n",
       "      <td>0</td>\n",
       "      <td>0</td>\n",
       "      <td>0</td>\n",
       "      <td>1</td>\n",
       "      <td>0</td>\n",
       "      <td>0</td>\n",
       "    </tr>\n",
       "    <tr>\n",
       "      <th>3</th>\n",
       "      <td>0008baca-bad7-11e8-b2b9-ac1f6b6435d0</td>\n",
       "      <td>[0, 25]</td>\n",
       "      <td>1</td>\n",
       "      <td>0</td>\n",
       "      <td>0</td>\n",
       "      <td>0</td>\n",
       "      <td>0</td>\n",
       "      <td>0</td>\n",
       "      <td>0</td>\n",
       "      <td>0</td>\n",
       "      <td>...</td>\n",
       "      <td>0</td>\n",
       "      <td>0</td>\n",
       "      <td>0</td>\n",
       "      <td>0</td>\n",
       "      <td>0</td>\n",
       "      <td>0</td>\n",
       "      <td>0</td>\n",
       "      <td>1</td>\n",
       "      <td>0</td>\n",
       "      <td>0</td>\n",
       "    </tr>\n",
       "    <tr>\n",
       "      <th>4</th>\n",
       "      <td>000cce7e-bad4-11e8-b2b8-ac1f6b6435d0</td>\n",
       "      <td>[7, 23, 25]</td>\n",
       "      <td>0</td>\n",
       "      <td>0</td>\n",
       "      <td>0</td>\n",
       "      <td>0</td>\n",
       "      <td>0</td>\n",
       "      <td>0</td>\n",
       "      <td>0</td>\n",
       "      <td>1</td>\n",
       "      <td>...</td>\n",
       "      <td>0</td>\n",
       "      <td>0</td>\n",
       "      <td>0</td>\n",
       "      <td>0</td>\n",
       "      <td>0</td>\n",
       "      <td>1</td>\n",
       "      <td>0</td>\n",
       "      <td>1</td>\n",
       "      <td>0</td>\n",
       "      <td>0</td>\n",
       "    </tr>\n",
       "  </tbody>\n",
       "</table>\n",
       "<p>5 rows × 30 columns</p>\n",
       "</div>"
      ],
      "text/plain": [
       "                                     Id       Target  Nucleoplasm  \\\n",
       "0  00008af0-bad0-11e8-b2b8-ac1f6b6435d0          [2]            0   \n",
       "1  0000a892-bacf-11e8-b2b8-ac1f6b6435d0      [5, 25]            0   \n",
       "2  0006faa6-bac7-11e8-b2b7-ac1f6b6435d0      [0, 25]            1   \n",
       "3  0008baca-bad7-11e8-b2b9-ac1f6b6435d0      [0, 25]            1   \n",
       "4  000cce7e-bad4-11e8-b2b8-ac1f6b6435d0  [7, 23, 25]            0   \n",
       "\n",
       "   Nuclear membrane  Nucleoli  Nucleoli fibrillar center  Nuclear speckles  \\\n",
       "0                 0         1                          0                 0   \n",
       "1                 0         0                          0                 0   \n",
       "2                 0         0                          0                 0   \n",
       "3                 0         0                          0                 0   \n",
       "4                 0         0                          0                 0   \n",
       "\n",
       "   Nuclear bodies  Endoplasmic reticulum  Golgi apparatus  ...  \\\n",
       "0               0                      0                0  ...   \n",
       "1               1                      0                0  ...   \n",
       "2               0                      0                0  ...   \n",
       "3               0                      0                0  ...   \n",
       "4               0                      0                1  ...   \n",
       "\n",
       "   Microtubule organizing center  Centrosome  Lipid droplets  Plasma membrane  \\\n",
       "0                              0           0               0                0   \n",
       "1                              0           0               0                0   \n",
       "2                              0           0               0                0   \n",
       "3                              0           0               0                0   \n",
       "4                              0           0               0                0   \n",
       "\n",
       "   Cell junctions  Mitochondria  Aggresome  Cytosol  Cytoplasmic bodies  \\\n",
       "0               0             0          0        0                   0   \n",
       "1               0             0          0        1                   0   \n",
       "2               0             0          0        1                   0   \n",
       "3               0             0          0        1                   0   \n",
       "4               0             1          0        1                   0   \n",
       "\n",
       "   Rods & rings  \n",
       "0             0  \n",
       "1             0  \n",
       "2             0  \n",
       "3             0  \n",
       "4             0  \n",
       "\n",
       "[5 rows x 30 columns]"
      ]
     },
     "execution_count": 100,
     "metadata": {},
     "output_type": "execute_result"
    }
   ],
   "source": [
    "df_train = df_train.apply(fill_targets, axis=1)   #label_dict와 Target match\n",
    "df_train.head()"
   ]
  },
  {
   "cell_type": "code",
   "execution_count": 101,
   "id": "ec65c697",
   "metadata": {
    "scrolled": true
   },
   "outputs": [
    {
     "data": {
      "text/plain": [
       "<AxesSubplot:>"
      ]
     },
     "execution_count": 101,
     "metadata": {},
     "output_type": "execute_result"
    },
    {
     "data": {
      "image/png": "[encoded data removed]",
      "text/plain": [
       "<Figure size 1080x1080 with 1 Axes>"
      ]
     },
     "metadata": {
      "needs_background": "light"
     },
     "output_type": "display_data"
    }
   ],
   "source": [
    "# Data 시각화  -> dataset bias가 높음\n",
    "\n",
    "target_counts = df_train.drop([\"Id\", \"Target\"],axis=1).sum(axis=0)\n",
    "plt.figure(figsize=(15,15))\n",
    "sns.barplot(y=target_counts.index.values, x=target_counts.values, order=target_counts.index)"
   ]
  },
  {
   "cell_type": "code",
   "execution_count": 102,
   "id": "9ae3b7ce",
   "metadata": {
    "scrolled": false
   },
   "outputs": [
    {
     "data": {
      "text/plain": [
       "Text(0, 0.5, '% of train data')"
      ]
     },
     "execution_count": 102,
     "metadata": {},
     "output_type": "execute_result"
    },
    {
     "data": {
      "image/png": "[encoded data removed]",
      "text/plain": [
       "<Figure size 1440x360 with 1 Axes>"
      ]
     },
     "metadata": {
      "needs_background": "light"
     },
     "output_type": "display_data"
    }
   ],
   "source": [
    "# 멀티 레이블을 가지는 사진의 비율 시각화, 1장의 image가 가지는 최대 레이블은 5개,   1~3개의 label을 가지는 비율이 90%에 가까움\n",
    "\n",
    "df_train[\"number_of_targets\"] = df_train.drop([\"Id\", \"Target\"],axis=1).sum(axis=1)\n",
    "count_perc = np.round(100 * df_train[\"number_of_targets\"].value_counts() / df_train.shape[0], 2)\n",
    "plt.figure(figsize=(20,5))\n",
    "sns.barplot(x=count_perc.index.values, y=count_perc.values, palette=\"Blues\")\n",
    "plt.xlabel(\"Number of targets per image\")\n",
    "plt.ylabel(\"% of train data\")"
   ]
  },
  {
   "cell_type": "code",
   "execution_count": 103,
   "id": "3f8504fd",
   "metadata": {
    "scrolled": true
   },
   "outputs": [
    {
     "data": {
      "text/plain": [
       "<AxesSubplot:>"
      ]
     },
     "execution_count": 103,
     "metadata": {},
     "output_type": "execute_result"
    },
    {
     "data": {
      "image/png": "[encoded data removed]",
      "text/plain": [
       "<Figure size 720x720 with 2 Axes>"
      ]
     },
     "metadata": {
      "needs_background": "light"
     },
     "output_type": "display_data"
    }
   ],
   "source": [
    "# 레이블 간의 상관관계 분석. 상관성이 있는 label들 확인\n",
    "\n",
    "plt.figure(figsize=(10,10))\n",
    "sns.heatmap(df_train[df_train.number_of_targets>1].drop(\n",
    "    [\"Id\", \"Target\", \"number_of_targets\"],axis=1\n",
    ").corr(), cmap=\"RdYlBu\", vmin=-1, vmax=1)"
   ]
  },
  {
   "cell_type": "markdown",
   "id": "603600c1",
   "metadata": {},
   "source": [
    "# DataSet Split"
   ]
  },
  {
   "cell_type": "code",
   "execution_count": 104,
   "id": "4e15f334",
   "metadata": {},
   "outputs": [
    {
     "name": "stdout",
     "output_type": "stream",
     "text": [
      "train_data_set 대비 test_data_set이 38.0 % 비율\n"
     ]
    }
   ],
   "source": [
    "train_files = os.listdir(f\"{data_dir}/train\")\n",
    "test_files = os.listdir(f\"{data_dir}/test\")\n",
    "percentage = np.round(len(test_files) / len(train_files) * 100)\n",
    "\n",
    "print(f\"train_data_set 대비 test_data_set이 {percentage} % 비율\")"
   ]
  },
  {
   "cell_type": "code",
   "execution_count": 105,
   "id": "9cfd0144",
   "metadata": {},
   "outputs": [],
   "source": [
    "# train  test 비율 38%  참고하여 3:1로 split\n",
    "# label의 bias가 높아 MultilabelStratifiedKFold 를 사용하여 균등하게 split\n",
    "\n",
    "mskf = MultilabelStratifiedKFold(n_splits= 4, shuffle=True, random_state= 42)"
   ]
  },
  {
   "cell_type": "code",
   "execution_count": 106,
   "id": "ba95a3eb",
   "metadata": {},
   "outputs": [],
   "source": [
    "df_train[\"fold\"] = -1"
   ]
  },
  {
   "cell_type": "code",
   "execution_count": 107,
   "id": "90437ab4",
   "metadata": {},
   "outputs": [],
   "source": [
    "X = df_train['Id'].values"
   ]
  },
  {
   "cell_type": "code",
   "execution_count": 108,
   "id": "3637458e",
   "metadata": {},
   "outputs": [],
   "source": [
    "y = df_train.iloc[:, 2:-2].values"
   ]
  },
  {
   "cell_type": "code",
   "execution_count": 109,
   "id": "eb6253a2",
   "metadata": {},
   "outputs": [],
   "source": [
    "for i, (trn_idx, vld_idx) in enumerate(mskf.split(X, y)):\n",
    "    df_train.loc[vld_idx, 'fold'] = i "
   ]
  },
  {
   "cell_type": "code",
   "execution_count": 110,
   "id": "68c61fa8",
   "metadata": {
    "scrolled": false
   },
   "outputs": [
    {
     "data": {
      "text/plain": [
       "1    2924\n",
       "2    2884\n",
       "3    2876\n",
       "0    2837\n",
       "Name: fold, dtype: int64"
      ]
     },
     "execution_count": 110,
     "metadata": {},
     "output_type": "execute_result"
    }
   ],
   "source": [
    "df_train[\"fold\"].value_counts()"
   ]
  },
  {
   "cell_type": "code",
   "execution_count": 111,
   "id": "8dda5b4c",
   "metadata": {},
   "outputs": [],
   "source": [
    "trn_fold = [i for i in range(4) if i not in [2]]\n",
    "vld_fold = [2]"
   ]
  },
  {
   "cell_type": "code",
   "execution_count": 112,
   "id": "c798912f",
   "metadata": {},
   "outputs": [],
   "source": [
    "trn_idx = df_train.loc[df_train['fold'].isin(trn_fold)].index\n",
    "vld_idx = df_train.loc[df_train['fold'].isin(vld_fold)].index"
   ]
  },
  {
   "cell_type": "markdown",
   "id": "f7627f7b",
   "metadata": {},
   "source": [
    "# Define DataSet type B"
   ]
  },
  {
   "cell_type": "code",
   "execution_count": 113,
   "id": "2dbba3a0",
   "metadata": {},
   "outputs": [],
   "source": [
    "class HPA_Dataset(Dataset):\n",
    "  def __init__(self, csv, img_height, img_width, transform, is_test= False):\n",
    "    self.csv = csv.reset_index()\n",
    "    self.img_ids = csv['Id'].values\n",
    "    self.img_height = img_height\n",
    "    self.img_width = img_width\n",
    "    self.transform = transform\n",
    "    if is_test ==  False:\n",
    "        is_test = 'train'\n",
    "    else:\n",
    "        is_test = 'test'\n",
    "        \n",
    "    self.is_test = is_test\n",
    "\n",
    "\n",
    "  def __len__(self):\n",
    "    return len(self.csv)\n",
    "\n",
    "\n",
    "  def __getitem__(self, index):\n",
    "    img_id = self.img_ids[index]\n",
    "    img_red_ch = Image.open(f'{data_dir}/{self.is_test}/{img_id}'+'_red.png')\n",
    "    img_green_ch = Image.open(f'{data_dir}/{self.is_test}/{img_id}'+'_green.png')\n",
    "    img_blue_ch = Image.open(f'{data_dir}/{self.is_test}/{img_id}'+'_blue.png')\n",
    "    img_yellow_ch = Image.open(f'{data_dir}/{self.is_test}/{img_id}'+'_yellow.png')\n",
    "    \n",
    "    img = np.stack([\n",
    "    np.array(img_red_ch), \n",
    "    np.array(img_green_ch), \n",
    "    np.array(img_blue_ch),\n",
    "    np.array(img_yellow_ch)], -1)\n",
    "    \n",
    "#     img = cv2.resize(img, (self.img_height,  self.img_width)).astype(np.uint8)/255\n",
    "#     img = torch.Tensor(img).permute(2,0,1).numpy()\n",
    "    \n",
    "    if self.transform is not None:\n",
    "      img = self.transform(image = img)['image']\n",
    "    \n",
    "\n",
    "    label = self.csv.iloc[:,3:-2].iloc[index]\n",
    "\n",
    "    return img , np.array(label), img_id"
   ]
  },
  {
   "cell_type": "code",
   "execution_count": 119,
   "id": "2ddcbb00",
   "metadata": {
    "scrolled": true
   },
   "outputs": [
    {
     "data": {
      "application/vnd.jupyter.widget-view+json": {
       "model_id": "f35762177ca64ef28751473388cc8ba4",
       "version_major": 2,
       "version_minor": 0
      },
      "text/plain": [
       "  0%|          | 0/11521 [00:00<?, ?it/s]"
      ]
     },
     "metadata": {},
     "output_type": "display_data"
    }
   ],
   "source": [
    "import pickle\n",
    "\n",
    "for i,j, idx in tqdm(HPA_Dataset( df_train, 512,512, None, is_test= True)):\n",
    "    aa = []\n",
    "    aa.append(i)\n",
    "    aa.append(j)\n",
    "    (pd.to_pickle(aa,f'{data_dir}/pickle/{idx}.pkl'))\n",
    "#     print(i,j, idx)\n",
    "#     break"
   ]
  },
  {
   "cell_type": "code",
   "execution_count": 115,
   "id": "fbe4a976",
   "metadata": {
    "scrolled": true
   },
   "outputs": [
    {
     "data": {
      "text/html": [
       "<div>\n",
       "<style scoped>\n",
       "    .dataframe tbody tr th:only-of-type {\n",
       "        vertical-align: middle;\n",
       "    }\n",
       "\n",
       "    .dataframe tbody tr th {\n",
       "        vertical-align: top;\n",
       "    }\n",
       "\n",
       "    .dataframe thead th {\n",
       "        text-align: right;\n",
       "    }\n",
       "</style>\n",
       "<table border=\"1\" class=\"dataframe\">\n",
       "  <thead>\n",
       "    <tr style=\"text-align: right;\">\n",
       "      <th></th>\n",
       "      <th>Id</th>\n",
       "      <th>Target</th>\n",
       "      <th>Nucleoplasm</th>\n",
       "      <th>Nuclear membrane</th>\n",
       "      <th>Nucleoli</th>\n",
       "      <th>Nucleoli fibrillar center</th>\n",
       "      <th>Nuclear speckles</th>\n",
       "      <th>Nuclear bodies</th>\n",
       "      <th>Endoplasmic reticulum</th>\n",
       "      <th>Golgi apparatus</th>\n",
       "      <th>...</th>\n",
       "      <th>Lipid droplets</th>\n",
       "      <th>Plasma membrane</th>\n",
       "      <th>Cell junctions</th>\n",
       "      <th>Mitochondria</th>\n",
       "      <th>Aggresome</th>\n",
       "      <th>Cytosol</th>\n",
       "      <th>Cytoplasmic bodies</th>\n",
       "      <th>Rods &amp; rings</th>\n",
       "      <th>number_of_targets</th>\n",
       "      <th>fold</th>\n",
       "    </tr>\n",
       "  </thead>\n",
       "  <tbody>\n",
       "    <tr>\n",
       "      <th>0</th>\n",
       "      <td>00008af0-bad0-11e8-b2b8-ac1f6b6435d0</td>\n",
       "      <td>[2]</td>\n",
       "      <td>0</td>\n",
       "      <td>0</td>\n",
       "      <td>1</td>\n",
       "      <td>0</td>\n",
       "      <td>0</td>\n",
       "      <td>0</td>\n",
       "      <td>0</td>\n",
       "      <td>0</td>\n",
       "      <td>...</td>\n",
       "      <td>0</td>\n",
       "      <td>0</td>\n",
       "      <td>0</td>\n",
       "      <td>0</td>\n",
       "      <td>0</td>\n",
       "      <td>0</td>\n",
       "      <td>0</td>\n",
       "      <td>0</td>\n",
       "      <td>1</td>\n",
       "      <td>1</td>\n",
       "    </tr>\n",
       "    <tr>\n",
       "      <th>1</th>\n",
       "      <td>0000a892-bacf-11e8-b2b8-ac1f6b6435d0</td>\n",
       "      <td>[5, 25]</td>\n",
       "      <td>0</td>\n",
       "      <td>0</td>\n",
       "      <td>0</td>\n",
       "      <td>0</td>\n",
       "      <td>0</td>\n",
       "      <td>1</td>\n",
       "      <td>0</td>\n",
       "      <td>0</td>\n",
       "      <td>...</td>\n",
       "      <td>0</td>\n",
       "      <td>0</td>\n",
       "      <td>0</td>\n",
       "      <td>0</td>\n",
       "      <td>0</td>\n",
       "      <td>1</td>\n",
       "      <td>0</td>\n",
       "      <td>0</td>\n",
       "      <td>2</td>\n",
       "      <td>3</td>\n",
       "    </tr>\n",
       "    <tr>\n",
       "      <th>2</th>\n",
       "      <td>0006faa6-bac7-11e8-b2b7-ac1f6b6435d0</td>\n",
       "      <td>[0, 25]</td>\n",
       "      <td>1</td>\n",
       "      <td>0</td>\n",
       "      <td>0</td>\n",
       "      <td>0</td>\n",
       "      <td>0</td>\n",
       "      <td>0</td>\n",
       "      <td>0</td>\n",
       "      <td>0</td>\n",
       "      <td>...</td>\n",
       "      <td>0</td>\n",
       "      <td>0</td>\n",
       "      <td>0</td>\n",
       "      <td>0</td>\n",
       "      <td>0</td>\n",
       "      <td>1</td>\n",
       "      <td>0</td>\n",
       "      <td>0</td>\n",
       "      <td>2</td>\n",
       "      <td>1</td>\n",
       "    </tr>\n",
       "    <tr>\n",
       "      <th>3</th>\n",
       "      <td>0008baca-bad7-11e8-b2b9-ac1f6b6435d0</td>\n",
       "      <td>[0, 25]</td>\n",
       "      <td>1</td>\n",
       "      <td>0</td>\n",
       "      <td>0</td>\n",
       "      <td>0</td>\n",
       "      <td>0</td>\n",
       "      <td>0</td>\n",
       "      <td>0</td>\n",
       "      <td>0</td>\n",
       "      <td>...</td>\n",
       "      <td>0</td>\n",
       "      <td>0</td>\n",
       "      <td>0</td>\n",
       "      <td>0</td>\n",
       "      <td>0</td>\n",
       "      <td>1</td>\n",
       "      <td>0</td>\n",
       "      <td>0</td>\n",
       "      <td>2</td>\n",
       "      <td>0</td>\n",
       "    </tr>\n",
       "    <tr>\n",
       "      <th>4</th>\n",
       "      <td>000cce7e-bad4-11e8-b2b8-ac1f6b6435d0</td>\n",
       "      <td>[7, 23, 25]</td>\n",
       "      <td>0</td>\n",
       "      <td>0</td>\n",
       "      <td>0</td>\n",
       "      <td>0</td>\n",
       "      <td>0</td>\n",
       "      <td>0</td>\n",
       "      <td>0</td>\n",
       "      <td>1</td>\n",
       "      <td>...</td>\n",
       "      <td>0</td>\n",
       "      <td>0</td>\n",
       "      <td>0</td>\n",
       "      <td>1</td>\n",
       "      <td>0</td>\n",
       "      <td>1</td>\n",
       "      <td>0</td>\n",
       "      <td>0</td>\n",
       "      <td>3</td>\n",
       "      <td>1</td>\n",
       "    </tr>\n",
       "    <tr>\n",
       "      <th>...</th>\n",
       "      <td>...</td>\n",
       "      <td>...</td>\n",
       "      <td>...</td>\n",
       "      <td>...</td>\n",
       "      <td>...</td>\n",
       "      <td>...</td>\n",
       "      <td>...</td>\n",
       "      <td>...</td>\n",
       "      <td>...</td>\n",
       "      <td>...</td>\n",
       "      <td>...</td>\n",
       "      <td>...</td>\n",
       "      <td>...</td>\n",
       "      <td>...</td>\n",
       "      <td>...</td>\n",
       "      <td>...</td>\n",
       "      <td>...</td>\n",
       "      <td>...</td>\n",
       "      <td>...</td>\n",
       "      <td>...</td>\n",
       "      <td>...</td>\n",
       "    </tr>\n",
       "    <tr>\n",
       "      <th>11516</th>\n",
       "      <td>ffdfb96a-bad4-11e8-b2b8-ac1f6b6435d0</td>\n",
       "      <td>[11]</td>\n",
       "      <td>0</td>\n",
       "      <td>0</td>\n",
       "      <td>0</td>\n",
       "      <td>0</td>\n",
       "      <td>0</td>\n",
       "      <td>0</td>\n",
       "      <td>0</td>\n",
       "      <td>0</td>\n",
       "      <td>...</td>\n",
       "      <td>0</td>\n",
       "      <td>0</td>\n",
       "      <td>0</td>\n",
       "      <td>0</td>\n",
       "      <td>0</td>\n",
       "      <td>0</td>\n",
       "      <td>0</td>\n",
       "      <td>0</td>\n",
       "      <td>1</td>\n",
       "      <td>2</td>\n",
       "    </tr>\n",
       "    <tr>\n",
       "      <th>11517</th>\n",
       "      <td>ffdfc590-bad4-11e8-b2b8-ac1f6b6435d0</td>\n",
       "      <td>[0, 5, 25]</td>\n",
       "      <td>1</td>\n",
       "      <td>0</td>\n",
       "      <td>0</td>\n",
       "      <td>0</td>\n",
       "      <td>0</td>\n",
       "      <td>1</td>\n",
       "      <td>0</td>\n",
       "      <td>0</td>\n",
       "      <td>...</td>\n",
       "      <td>0</td>\n",
       "      <td>0</td>\n",
       "      <td>0</td>\n",
       "      <td>0</td>\n",
       "      <td>0</td>\n",
       "      <td>1</td>\n",
       "      <td>0</td>\n",
       "      <td>0</td>\n",
       "      <td>3</td>\n",
       "      <td>3</td>\n",
       "    </tr>\n",
       "    <tr>\n",
       "      <th>11518</th>\n",
       "      <td>ffecb8a4-bad4-11e8-b2b8-ac1f6b6435d0</td>\n",
       "      <td>[7, 23]</td>\n",
       "      <td>0</td>\n",
       "      <td>0</td>\n",
       "      <td>0</td>\n",
       "      <td>0</td>\n",
       "      <td>0</td>\n",
       "      <td>0</td>\n",
       "      <td>0</td>\n",
       "      <td>1</td>\n",
       "      <td>...</td>\n",
       "      <td>0</td>\n",
       "      <td>0</td>\n",
       "      <td>0</td>\n",
       "      <td>1</td>\n",
       "      <td>0</td>\n",
       "      <td>0</td>\n",
       "      <td>0</td>\n",
       "      <td>0</td>\n",
       "      <td>2</td>\n",
       "      <td>3</td>\n",
       "    </tr>\n",
       "    <tr>\n",
       "      <th>11519</th>\n",
       "      <td>fff03816-bad5-11e8-b2b9-ac1f6b6435d0</td>\n",
       "      <td>[0, 1]</td>\n",
       "      <td>1</td>\n",
       "      <td>1</td>\n",
       "      <td>0</td>\n",
       "      <td>0</td>\n",
       "      <td>0</td>\n",
       "      <td>0</td>\n",
       "      <td>0</td>\n",
       "      <td>0</td>\n",
       "      <td>...</td>\n",
       "      <td>0</td>\n",
       "      <td>0</td>\n",
       "      <td>0</td>\n",
       "      <td>0</td>\n",
       "      <td>0</td>\n",
       "      <td>0</td>\n",
       "      <td>0</td>\n",
       "      <td>0</td>\n",
       "      <td>2</td>\n",
       "      <td>0</td>\n",
       "    </tr>\n",
       "    <tr>\n",
       "      <th>11520</th>\n",
       "      <td>fffe6f9c-bacd-11e8-b2b8-ac1f6b6435d0</td>\n",
       "      <td>[0, 25]</td>\n",
       "      <td>1</td>\n",
       "      <td>0</td>\n",
       "      <td>0</td>\n",
       "      <td>0</td>\n",
       "      <td>0</td>\n",
       "      <td>0</td>\n",
       "      <td>0</td>\n",
       "      <td>0</td>\n",
       "      <td>...</td>\n",
       "      <td>0</td>\n",
       "      <td>0</td>\n",
       "      <td>0</td>\n",
       "      <td>0</td>\n",
       "      <td>0</td>\n",
       "      <td>1</td>\n",
       "      <td>0</td>\n",
       "      <td>0</td>\n",
       "      <td>2</td>\n",
       "      <td>0</td>\n",
       "    </tr>\n",
       "  </tbody>\n",
       "</table>\n",
       "<p>11521 rows × 32 columns</p>\n",
       "</div>"
      ],
      "text/plain": [
       "                                         Id       Target  Nucleoplasm  \\\n",
       "0      00008af0-bad0-11e8-b2b8-ac1f6b6435d0          [2]            0   \n",
       "1      0000a892-bacf-11e8-b2b8-ac1f6b6435d0      [5, 25]            0   \n",
       "2      0006faa6-bac7-11e8-b2b7-ac1f6b6435d0      [0, 25]            1   \n",
       "3      0008baca-bad7-11e8-b2b9-ac1f6b6435d0      [0, 25]            1   \n",
       "4      000cce7e-bad4-11e8-b2b8-ac1f6b6435d0  [7, 23, 25]            0   \n",
       "...                                     ...          ...          ...   \n",
       "11516  ffdfb96a-bad4-11e8-b2b8-ac1f6b6435d0         [11]            0   \n",
       "11517  ffdfc590-bad4-11e8-b2b8-ac1f6b6435d0   [0, 5, 25]            1   \n",
       "11518  ffecb8a4-bad4-11e8-b2b8-ac1f6b6435d0      [7, 23]            0   \n",
       "11519  fff03816-bad5-11e8-b2b9-ac1f6b6435d0       [0, 1]            1   \n",
       "11520  fffe6f9c-bacd-11e8-b2b8-ac1f6b6435d0      [0, 25]            1   \n",
       "\n",
       "       Nuclear membrane  Nucleoli  Nucleoli fibrillar center  \\\n",
       "0                     0         1                          0   \n",
       "1                     0         0                          0   \n",
       "2                     0         0                          0   \n",
       "3                     0         0                          0   \n",
       "4                     0         0                          0   \n",
       "...                 ...       ...                        ...   \n",
       "11516                 0         0                          0   \n",
       "11517                 0         0                          0   \n",
       "11518                 0         0                          0   \n",
       "11519                 1         0                          0   \n",
       "11520                 0         0                          0   \n",
       "\n",
       "       Nuclear speckles  Nuclear bodies  Endoplasmic reticulum  \\\n",
       "0                     0               0                      0   \n",
       "1                     0               1                      0   \n",
       "2                     0               0                      0   \n",
       "3                     0               0                      0   \n",
       "4                     0               0                      0   \n",
       "...                 ...             ...                    ...   \n",
       "11516                 0               0                      0   \n",
       "11517                 0               1                      0   \n",
       "11518                 0               0                      0   \n",
       "11519                 0               0                      0   \n",
       "11520                 0               0                      0   \n",
       "\n",
       "       Golgi apparatus  ...  Lipid droplets  Plasma membrane  Cell junctions  \\\n",
       "0                    0  ...               0                0               0   \n",
       "1                    0  ...               0                0               0   \n",
       "2                    0  ...               0                0               0   \n",
       "3                    0  ...               0                0               0   \n",
       "4                    1  ...               0                0               0   \n",
       "...                ...  ...             ...              ...             ...   \n",
       "11516                0  ...               0                0               0   \n",
       "11517                0  ...               0                0               0   \n",
       "11518                1  ...               0                0               0   \n",
       "11519                0  ...               0                0               0   \n",
       "11520                0  ...               0                0               0   \n",
       "\n",
       "       Mitochondria  Aggresome  Cytosol  Cytoplasmic bodies  Rods & rings  \\\n",
       "0                 0          0        0                   0             0   \n",
       "1                 0          0        1                   0             0   \n",
       "2                 0          0        1                   0             0   \n",
       "3                 0          0        1                   0             0   \n",
       "4                 1          0        1                   0             0   \n",
       "...             ...        ...      ...                 ...           ...   \n",
       "11516             0          0        0                   0             0   \n",
       "11517             0          0        1                   0             0   \n",
       "11518             1          0        0                   0             0   \n",
       "11519             0          0        0                   0             0   \n",
       "11520             0          0        1                   0             0   \n",
       "\n",
       "       number_of_targets  fold  \n",
       "0                      1     1  \n",
       "1                      2     3  \n",
       "2                      2     1  \n",
       "3                      2     0  \n",
       "4                      3     1  \n",
       "...                  ...   ...  \n",
       "11516                  1     2  \n",
       "11517                  3     3  \n",
       "11518                  2     3  \n",
       "11519                  2     0  \n",
       "11520                  2     0  \n",
       "\n",
       "[11521 rows x 32 columns]"
      ]
     },
     "execution_count": 115,
     "metadata": {},
     "output_type": "execute_result"
    }
   ],
   "source": []
  },
  {
   "cell_type": "code",
   "execution_count": null,
   "id": "d27f120a",
   "metadata": {},
   "outputs": [],
   "source": [
    "i.mean()"
   ]
  },
  {
   "cell_type": "code",
   "execution_count": null,
   "id": "d93c7fdb",
   "metadata": {},
   "outputs": [],
   "source": [
    "# data = pd.read_pickle(f'./{idx}.pkl')\n",
    "\n",
    "\n",
    "data[1]"
   ]
  },
  {
   "cell_type": "markdown",
   "id": "abb2af8b",
   "metadata": {},
   "source": [
    "# Define augmentations"
   ]
  },
  {
   "cell_type": "code",
   "execution_count": null,
   "id": "84e8878d",
   "metadata": {},
   "outputs": [],
   "source": [
    "# cutmix or cutout을 추가해서 실험할 예정\n",
    "\n",
    "train_aug = A.Compose([\n",
    "    A.Resize(224, 224),\n",
    "    A.OneOf([\n",
    "      A.HorizontalFlip(p=0.3),\n",
    "      A.RandomRotate90(p=0.3),\n",
    "      A.VerticalFlip(p=0.3)            \n",
    "    ], p=0.4),\n",
    "    A.OneOf([\n",
    "      A.MotionBlur(p=0.3),\n",
    "      A.OpticalDistortion(p=0.3),\n",
    "      A.GaussNoise(p=0.3)                 \n",
    "    ], p=0.4),\n",
    "#     A.Normalize([0.08069, 0.05258, 0.05487, 0.08282], [0.13704, 0.10145, 0.15313, 0.13814]),\n",
    "    A.pytorch.transforms.ToTensorV2()\n",
    "])\n",
    "\n",
    "vaild_aug = A.Compose([\n",
    "#     A.Normalize([0.08069, 0.05258, 0.05487, 0.08282], [0.13704, 0.10145, 0.15313, 0.13814]),\n",
    "    A.Resize(224,224),\n",
    "    A.pytorch.transforms.ToTensorV2()\n",
    "])"
   ]
  },
  {
   "cell_type": "markdown",
   "id": "1bb57153",
   "metadata": {},
   "source": [
    "# Make dataloader"
   ]
  },
  {
   "cell_type": "code",
   "execution_count": null,
   "id": "bfffe23d",
   "metadata": {},
   "outputs": [],
   "source": [
    "# len(partitions)\n",
    "\n",
    "# TFrecod 로 파일을 변환해뒀으면 더 효육적이고 빠른 학습이 가능했을듯"
   ]
  },
  {
   "cell_type": "code",
   "execution_count": null,
   "id": "62fc0cab",
   "metadata": {},
   "outputs": [],
   "source": [
    "# for data in ['train', 'valid']:\n",
    "#     dataset = []\n",
    "#     for idx in range(len(partitions)):\n",
    "#         dataset.append(f'df_{data}_f{idx}')\n",
    "#     globals()[f'{data}_csv'] = dataset\n",
    "num  = 0 \n",
    "\n",
    "\n",
    "def trn_dataset(num, is_test= False):\n",
    "    trn_dataset = HPA_Dataset(csv =  df_train.iloc[trn_idx],\n",
    "                                 img_height = HEIGHT,\n",
    "                                 img_width = WIDTH,\n",
    "                                 transform = train_aug,\n",
    "                                 is_test = is_test,\n",
    "                              )\n",
    "    return trn_dataset\n",
    "\n",
    "def vld_dataset(num, is_test= False):\n",
    "    vld_dataset = HPA_Dataset(csv = df_train.iloc[vld_idx],\n",
    "                                img_height = HEIGHT,\n",
    "                                img_width = WIDTH,\n",
    "                                transform = vaild_aug,\n",
    "                                is_test = is_test,\n",
    "                             )\n",
    "    return vld_dataset\n",
    "\n",
    "\n",
    "def trn_loader(num, is_test= False):\n",
    "    trn_loader = DataLoader(trn_dataset(num, is_test),\n",
    "                           shuffle = True,\n",
    "                           num_workers = 2,\n",
    "                           batch_size = 24,\n",
    "                           )\n",
    "    return trn_loader\n",
    "\n",
    "def vld_loader(num, is_test= False):\n",
    "    vld_loader = DataLoader(vld_dataset(num, is_test),\n",
    "                           num_workers = 2,\n",
    "                           batch_size = 24,\n",
    "                           )\n",
    "    return vld_loader"
   ]
  },
  {
   "cell_type": "markdown",
   "id": "ac0b3f9f",
   "metadata": {},
   "source": [
    "# Create model, opt, criterion"
   ]
  },
  {
   "cell_type": "code",
   "execution_count": null,
   "id": "8921b813",
   "metadata": {},
   "outputs": [],
   "source": [
    "# !pip install torch_lr_finder\n",
    "import timm"
   ]
  },
  {
   "cell_type": "markdown",
   "id": "b44ef83d",
   "metadata": {},
   "source": [
    "# Model list"
   ]
  },
  {
   "cell_type": "code",
   "execution_count": null,
   "id": "28f740a3",
   "metadata": {
    "scrolled": true
   },
   "outputs": [],
   "source": [
    "timm.list_models(pretrained=True)"
   ]
  },
  {
   "cell_type": "code",
   "execution_count": null,
   "id": "b1c328b4",
   "metadata": {},
   "outputs": [],
   "source": [
    "# https://github.com/lucidrains/vit-pytorch\n",
    "\n",
    "class ViT(nn.Module):\n",
    "    def __init__(self, class_n=28):\n",
    "        super().__init__()\n",
    "        self.model = timm.create_model('tf_efficientnetv2_b3', pretrained=True, num_classes=28, in_chans= 4)\n",
    "        \n",
    "#         w = self.model.patch_embed.proj.weight\n",
    "#         self.model.patch_embed.proj = nn.Conv2d(4, 768, kernel_size=(16, 16), stride=(16, 16))\n",
    "#         self.model.patch_embed.proj.weight = torch.nn.Parameter(torch.cat((w,torch.zeros(768,1,16,16)),dim=1))       \n",
    "        \n",
    "#         self.model.head = nn.Sequential(nn.Dropout(0.5), nn.Linear(in_features=768, out_features=28, bias=True))\n",
    "\n",
    "    def forward(self, x):\n",
    "        x = self.model(x)\n",
    "        return x"
   ]
  },
  {
   "cell_type": "code",
   "execution_count": null,
   "id": "60984db7",
   "metadata": {},
   "outputs": [],
   "source": [
    "model = ViT()"
   ]
  },
  {
   "cell_type": "code",
   "execution_count": null,
   "id": "d5eef030",
   "metadata": {
    "scrolled": true
   },
   "outputs": [],
   "source": [
    "model"
   ]
  },
  {
   "cell_type": "code",
   "execution_count": null,
   "id": "13e5c818",
   "metadata": {},
   "outputs": [],
   "source": [
    "model.model.conv_stem.weight[:,0:,:,:]\n"
   ]
  },
  {
   "cell_type": "code",
   "execution_count": null,
   "id": "3617faee",
   "metadata": {},
   "outputs": [],
   "source": [
    "# 8개까지 freeze()\n",
    "# requires_grad = False\n",
    "# for idx, params in enumerate(model.parameters()):\n",
    "#     if idx <= (155 - 8):\n",
    "#         params.requires_grad = False\n"
   ]
  },
  {
   "cell_type": "code",
   "execution_count": null,
   "id": "19fa7cb1",
   "metadata": {},
   "outputs": [],
   "source": [
    "# for i in filter(lambda p: p.requires_grad, model.parameters()):\n",
    "#     print(i.requires_grad)"
   ]
  },
  {
   "cell_type": "code",
   "execution_count": null,
   "id": "a3e5cf6c",
   "metadata": {},
   "outputs": [],
   "source": [
    "model = model.cuda()"
   ]
  },
  {
   "cell_type": "code",
   "execution_count": null,
   "id": "d033021a",
   "metadata": {},
   "outputs": [],
   "source": [
    "# https://becominghuman.ai/investigating-focal-and-dice-loss-for-the-kaggle-2018-data-science-bowl-65fb9af4f36c\n",
    "# https://arxiv.org/pdf/1708.02002.pdf\n",
    "# 데이터 불균형에 적합한 loss funtion을 선택  1:10, 1000에 굉장히 유리하다는 평가가 있음.\n",
    "\n",
    "class FocalLoss(nn.Module):\n",
    "    def __init__(self, gamma=2):\n",
    "        super().__init__()\n",
    "        self.gamma = gamma\n",
    "        \n",
    "    def forward(self, input, target):\n",
    "        if not (target.size() == input.size()):\n",
    "            raise ValueError(\"Target size ({}) must be the same as input size ({})\"\n",
    "                             .format(target.size(), input.size()))\n",
    "\n",
    "        max_val = (-input).clamp(min=0)\n",
    "        loss = input - input * target + max_val + \\\n",
    "            ((-max_val).exp() + (-input - max_val).exp()).log()\n",
    "\n",
    "        invprobs = F.logsigmoid(-input * (target * 2.0 - 1.0))\n",
    "        loss = (invprobs * self.gamma).exp() * loss\n",
    "        \n",
    "        return loss.sum(dim=1).mean()\n",
    "    \n",
    "loss_fn = FocalLoss()\n"
   ]
  },
  {
   "cell_type": "code",
   "execution_count": null,
   "id": "85f4a24a",
   "metadata": {},
   "outputs": [],
   "source": [
    "#BCEWithLogitsLoss : threshold기준으로 [1,0,0,1,0]식으로 표현 하기위해 sigmoid가 결합된 Binary Cross Entropy를 선택\n",
    "\n",
    "# loss_fn = nn.BCEWithLogitsLoss()\n",
    "\n",
    "# scheduler = torch.optim.lr_scheduler.ReduceLROnPlateau(optimizer,\n",
    "#                                                       mode='max',\n",
    "#                                                       verbose = True,\n",
    "#                                                       patience=3,\n",
    "#                                                       factor = 0.5,\n",
    "#                                                       threshold = 1e-2,\n",
    "#                                                        )"
   ]
  },
  {
   "cell_type": "code",
   "execution_count": null,
   "id": "361c7c25",
   "metadata": {},
   "outputs": [],
   "source": [
    "# https://gaussian37.github.io/dl-pytorch-lr_scheduler/ 블로그 참조\n",
    "\n",
    "\n",
    "class CosineAnnealingWarmUpRestarts(_LRScheduler):\n",
    "    def __init__(self, optimizer, T_0, T_mult=1, eta_max=0.1, T_up=0, gamma=1., last_epoch=-1):\n",
    "        if T_0 <= 0 or not isinstance(T_0, int):\n",
    "            raise ValueError(\"Expected positive integer T_0, but got {}\".format(T_0))\n",
    "        if T_mult < 1 or not isinstance(T_mult, int):\n",
    "            raise ValueError(\"Expected integer T_mult >= 1, but got {}\".format(T_mult))\n",
    "        if T_up < 0 or not isinstance(T_up, int):\n",
    "            raise ValueError(\"Expected positive integer T_up, but got {}\".format(T_up))\n",
    "        self.T_0 = T_0\n",
    "        self.T_mult = T_mult\n",
    "        self.base_eta_max = eta_max\n",
    "        self.eta_max = eta_max\n",
    "        self.T_up = T_up\n",
    "        self.T_i = T_0\n",
    "        self.gamma = gamma\n",
    "        self.cycle = 0\n",
    "        self.T_cur = last_epoch\n",
    "        super(CosineAnnealingWarmUpRestarts, self).__init__(optimizer, last_epoch)\n",
    "    \n",
    "    def get_lr(self):\n",
    "        if self.T_cur == -1:\n",
    "            return self.base_lrs\n",
    "        elif self.T_cur < self.T_up:\n",
    "            return [(self.eta_max - base_lr)*self.T_cur / self.T_up + base_lr for base_lr in self.base_lrs]\n",
    "        else:\n",
    "            return [base_lr + (self.eta_max - base_lr) * (1 + math.cos(math.pi * (self.T_cur-self.T_up) / (self.T_i - self.T_up))) / 2\n",
    "                    for base_lr in self.base_lrs]\n",
    "\n",
    "    def step(self, epoch=None):\n",
    "        if epoch is None:\n",
    "            epoch = self.last_epoch + 1\n",
    "            self.T_cur = self.T_cur + 1\n",
    "            if self.T_cur >= self.T_i:\n",
    "                self.cycle += 1\n",
    "                self.T_cur = self.T_cur - self.T_i\n",
    "                self.T_i = (self.T_i - self.T_up) * self.T_mult + self.T_up\n",
    "        else:\n",
    "            if epoch >= self.T_0:\n",
    "                if self.T_mult == 1:\n",
    "                    self.T_cur = epoch % self.T_0\n",
    "                    self.cycle = epoch // self.T_0\n",
    "                else:\n",
    "                    n = int(math.log((epoch / self.T_0 * (self.T_mult - 1) + 1), self.T_mult))\n",
    "                    self.cycle = n\n",
    "                    self.T_cur = epoch - self.T_0 * (self.T_mult ** n - 1) / (self.T_mult - 1)\n",
    "                    self.T_i = self.T_0 * self.T_mult ** (n)\n",
    "            else:\n",
    "                self.T_i = self.T_0\n",
    "                self.T_cur = epoch\n",
    "                \n",
    "        self.eta_max = self.base_eta_max * (self.gamma**self.cycle)\n",
    "        self.last_epoch = math.floor(epoch)\n",
    "        for param_group, lr in zip(self.optimizer.param_groups, self.get_lr()):\n",
    "            param_group['lr'] = lr"
   ]
  },
  {
   "cell_type": "code",
   "execution_count": null,
   "id": "bd635368",
   "metadata": {
    "scrolled": true
   },
   "outputs": [],
   "source": [
    "# 학습전 최적의 lr find\n",
    "\n",
    "from torch_lr_finder import LRFinder\n",
    "def finder():\n",
    "    optimizer = torch.optim.Adam(filter(lambda p: p.requires_grad, model.parameters()), lr=1e-8, weight_decay=1e-2)\n",
    "    lr_finder = LRFinder(model, optimizer, loss_fn, device=\"cuda\")\n",
    "    lr_finder.range_test(trn_loader(0), end_lr=200, num_iter=200)\n",
    "    lr_finder.plot() # to inspect the loss-learning rate graph\n",
    "    lr_finder.reset() # to reset the model and optimizer to their initial state\n",
    "    \n",
    "if __name__ == '__main__':\n",
    "    finder()"
   ]
  },
  {
   "cell_type": "code",
   "execution_count": null,
   "id": "1aeffccc",
   "metadata": {},
   "outputs": [],
   "source": [
    "# AdamW : 컴퓨터 비젼 task에서는 momentum을 포함한 SGD에 비해 일반화(generalization)가 많이 뒤쳐진다는 결과들이 있고\n",
    "# 멀티 클래스, 멀티 레이블, 클래스 불균형으로 인한 일반화에 더 집중된 옵티마이저가 유리하다고 판단.\n",
    "\n",
    "# 참고문헌 : https://hiddenbeginner.github.io/deeplearning/paperreview/2019/12/29/paper_review_AdamW.html\n",
    "     \n",
    "# lr finder 로 찾은 lr을 적용\n",
    "\n",
    "optimizer = torch.optim.Adam(filter(lambda p: p.requires_grad, model.parameters()), lr = 3.51E-04)\n",
    "# optimizer = torch.optim.SGD(model.parameters(), lr = 1.75E-04, momentum=0.9)\n",
    "# optimizer = SWA(optimizer, swa_start=10, swa_freq=5, swa_lr=1e-5)\n",
    "\n"
   ]
  },
  {
   "cell_type": "code",
   "execution_count": null,
   "id": "b53529e2",
   "metadata": {},
   "outputs": [],
   "source": [
    "# model logit값 sigmoid로 0~1값 변환\n",
    "def sigmoid_np(x):\n",
    "    return 1.0/(1.0 + np.exp(-x))\n",
    "\n",
    "\n",
    "# 초기 값은 0.4  -> model이 학습한 후 예측값을 기준으로 True 데이터 비율이 높고 False 데이터 비율이 낮은 최적의 Thresholds값을\n",
    "# labels 별로 각각 28개 구해서 진행\n",
    "Thresholds = 0.4"
   ]
  },
  {
   "cell_type": "code",
   "execution_count": null,
   "id": "b486b1b0",
   "metadata": {},
   "outputs": [],
   "source": [
    "# warmup!\n",
    "final_score = []\n",
    "for ep in range(1):\n",
    "    train_loss = []\n",
    "    val_loss = []\n",
    "    val_true = []\n",
    "    val_pred = []\n",
    "\n",
    "    print(f'======================== {ep} warmup train start ========================') \n",
    "\n",
    "    model.train()\n",
    "    for inputs, targets in tqdm(trn_loader(ep)):\n",
    "\n",
    "        inputs = inputs.cuda()  # gpu 환경에서 돌아가기 위해 cuda()\n",
    "        targets = targets.cuda() #정답 데이터\n",
    "        logits = model(inputs.float()) # 결과값 \n",
    "        # 변화도(Gradient) 매개변수를 0\n",
    "        optimizer.zero_grad()\n",
    "        # 순전파 + 역전파 + 최적화\n",
    "        loss = loss_fn(logits,  targets.float())\n",
    "        loss.backward()\n",
    "        optimizer.step()\n",
    "        train_loss.append(loss.item())\n",
    "    model.eval()\n",
    "    with torch.no_grad():\n",
    "        for inputs, targets in tqdm(vld_loader(ep)):\n",
    "            inputs = inputs.cuda()\n",
    "            targets = targets.cuda()\n",
    "\n",
    "            logits = model(inputs.float())\n",
    "\n",
    "            loss = loss_fn(logits, targets.float())\n",
    "            val_loss.append(loss.item())\n",
    "\n",
    "            # 정답 비교 code\n",
    "            pred = np.where(sigmoid_np(logits.cpu().detach().numpy()) > Thresholds, 1, 0)\n",
    "            F1_score = f1_score(targets.cpu().numpy(), pred , average='macro')\n",
    "            final_score.append(F1_score)\n",
    "\n",
    "    Val_loss_ = np.mean(val_loss) \n",
    "    Train_loss_ = np.mean(train_loss)\n",
    "    Final_score_ = np.mean(final_score)\n",
    "    print(f'train_loss : {Train_loss_:.5f}; val_loss: {Val_loss_:.5f}; f1_score: {Final_score_:.5f}')"
   ]
  },
  {
   "cell_type": "code",
   "execution_count": null,
   "id": "57554e43",
   "metadata": {},
   "outputs": [],
   "source": [
    "import gc\n",
    "\n",
    "torch.cuda.empty_cache()\n",
    "gc.collect()"
   ]
  },
  {
   "cell_type": "code",
   "execution_count": null,
   "id": "265a5435",
   "metadata": {},
   "outputs": [],
   "source": [
    "# unfreeze() 파라미터 requires_grad all true\n",
    "# for idx, params in enumerate(model.parameters()):\n",
    "#     params.requires_grad = True"
   ]
  },
  {
   "cell_type": "code",
   "execution_count": null,
   "id": "c884d93b",
   "metadata": {},
   "outputs": [],
   "source": [
    "optimizer = torch.optim.Adam(model.parameters(), lr = 1.0E-06)\n",
    "scheduler = CosineAnnealingWarmUpRestarts(optimizer, T_0= 20, T_mult=1, eta_max=5.0E-03,  T_up=3, gamma=0.5)"
   ]
  },
  {
   "cell_type": "code",
   "execution_count": null,
   "id": "1e2874fd",
   "metadata": {
    "scrolled": true
   },
   "outputs": [],
   "source": [
    "best_score = -1\n",
    "final_score = []\n",
    "title = 'TW_ViT_model_Adam_pure'\n",
    "lrs = []\n",
    "early_stop = np.inf\n",
    "for ep in range(60):\n",
    "    train_loss = []\n",
    "    val_loss = []\n",
    "    val_true = []\n",
    "    val_pred = []\n",
    "\n",
    "    print(f'======================== {ep} Epoch train start ========================') \n",
    "\n",
    "\n",
    "    model.train()\n",
    "    for inputs, targets in tqdm(trn_loader(ep)):\n",
    "\n",
    "        inputs = inputs.cuda()  # gpu 환경에서 돌아가기 위해 cuda()\n",
    "        targets = targets.cuda() #정답 데이터\n",
    "        \n",
    "        # 변화도(Gradient) 매개변수를 0\n",
    "        optimizer.zero_grad()\n",
    "        logits = model(inputs.float()) # 결과값 \n",
    "\n",
    "        # 순전파 + 역전파 + 최적화\n",
    "        loss = loss_fn(logits,  targets.float())\n",
    "        loss.backward()\n",
    "        optimizer.step()\n",
    "        \n",
    "        train_loss.append(loss.item())\n",
    "        \n",
    "    model.eval()\n",
    "    with torch.no_grad():\n",
    "        for inputs, targets in tqdm(vld_loader(ep)):\n",
    "            inputs = inputs.cuda()\n",
    "            targets = targets.cuda()\n",
    "\n",
    "            logits = model(inputs.float())\n",
    "\n",
    "            loss = loss_fn(logits, targets.float())\n",
    "\n",
    "\n",
    "            val_loss.append(loss.item())\n",
    "\n",
    "            # 정답 비교 code\n",
    "            pred = np.where(sigmoid_np(logits.cpu().detach().numpy()) > Thresholds, 1, 0)\n",
    "            F1_score = f1_score(targets.cpu().numpy(), pred , average='macro')\n",
    "            final_score.append(F1_score)\n",
    "\n",
    "    Val_loss_ = np.mean(val_loss) \n",
    "    Train_loss_ = np.mean(train_loss)\n",
    "    Final_score_ = np.mean(final_score)\n",
    "    print(f'train_loss : {Train_loss_:.5f}; val_loss: {Val_loss_:.5f}; f1_score: {Final_score_:.5f}')\n",
    "    scheduler.step()\n",
    "    lrs.append(optimizer.param_groups[0]['lr'])\n",
    "    print(\"lr: \", optimizer.param_groups[0]['lr'])\n",
    "    \n",
    "    if Final_score_ > best_score and early_stop > Val_loss_:\n",
    "        best_score = Final_score_\n",
    "        early_stop = Val_loss_\n",
    "        early_count = 0\n",
    "        state_dict = model.cpu().state_dict()\n",
    "        model = model.cuda()\n",
    "        torch.save(state_dict, f\"../model/HPA/{title}_{ep}.pt\")\n",
    "\n",
    "        print('\\n SAVE MODEL UPDATE \\n\\n')\n",
    "    elif early_stop < Val_loss_ or Final_score_ < best_score:\n",
    "        early_count += 1\n",
    "\n",
    "    if early_count == 5:\n",
    "        print('early stop!!!')\n",
    "        break    \n",
    "\n",
    "# optimizer.swap_swa_sgd()"
   ]
  },
  {
   "cell_type": "code",
   "execution_count": null,
   "id": "eca48913",
   "metadata": {},
   "outputs": [],
   "source": [
    "plt.plot(lrs)"
   ]
  },
  {
   "cell_type": "markdown",
   "id": "fb2ef5cf",
   "metadata": {},
   "source": [
    "# Model load"
   ]
  },
  {
   "cell_type": "code",
   "execution_count": null,
   "id": "5b35e94d",
   "metadata": {},
   "outputs": [],
   "source": [
    "# https://arxiv.org/abs/2106.10270  모델 선택 참고 논문 \n",
    "# 레귤라이제이션 의 비효율 \n",
    "# 데이터의 양이 많은 것이 학습된 모델이 더 효과적임"
   ]
  },
  {
   "cell_type": "code",
   "execution_count": null,
   "id": "7f752433",
   "metadata": {},
   "outputs": [],
   "source": [
    "# model.load_state_dict(torch.load('./TW_ViT_model.pt'))"
   ]
  },
  {
   "cell_type": "markdown",
   "id": "171e4c56",
   "metadata": {},
   "source": [
    "# Inference"
   ]
  },
  {
   "cell_type": "code",
   "execution_count": null,
   "id": "99baa876",
   "metadata": {},
   "outputs": [],
   "source": [
    "def test_dataset(num, is_test= False):\n",
    "    test_dataset = HPA_Dataset(csv = num,\n",
    "                                img_height = HEIGHT,\n",
    "                                img_width = WIDTH,\n",
    "                                transform = vaild_aug,\n",
    "                                is_test = is_test,\n",
    "                             )\n",
    "    return test_dataset\n",
    "\n",
    "\n",
    "def test_loader(num, is_test= False):\n",
    "    test_loader = DataLoader(test_dataset(num, is_test),\n",
    "                           batch_size = 32,\n",
    "                           )\n",
    "    return test_loader"
   ]
  },
  {
   "cell_type": "code",
   "execution_count": null,
   "id": "61513328",
   "metadata": {},
   "outputs": [],
   "source": [
    "submit = pd.read_csv(f'{data_dir}/sample_submission.csv')"
   ]
  },
  {
   "cell_type": "code",
   "execution_count": null,
   "id": "7f188dc8",
   "metadata": {
    "scrolled": true
   },
   "outputs": [],
   "source": [
    "pred = []\n",
    "for inputs, labels in tqdm(test_loader(submit, is_test = True)):\n",
    "    model.eval()\n",
    "    with torch.no_grad():\n",
    "        inputs = inputs.cuda()    \n",
    "        logits = model(inputs.float())\n",
    "        \n",
    "        pred.append(sigmoid_np(logits.cpu().detach().numpy()))"
   ]
  },
  {
   "cell_type": "code",
   "execution_count": null,
   "id": "59a501c5",
   "metadata": {},
   "outputs": [],
   "source": [
    "def save_pred(pred, th=0.5, fname= title):\n",
    "    pred_list = []\n",
    "    for line in tqdm(pred):\n",
    "        for idx in line:\n",
    "            s = ' '.join(list([str(i) for i in np.nonzero(idx >th)[0]]))\n",
    "            pred_list.append(s)\n",
    "    submit['Predicted'] = pred_list\n",
    "    submit.to_csv(f'../outputs/{fname}',  index=False)\n",
    "    \n",
    "save_pred(pred,Thresholds)"
   ]
  },
  {
   "cell_type": "code",
   "execution_count": null,
   "id": "3e9f774d",
   "metadata": {},
   "outputs": [],
   "source": [
    "# end"
   ]
  }
 ],
 "metadata": {
  "kernelspec": {
   "display_name": "Python 3 (ipykernel)",
   "language": "python",
   "name": "python3"
  },
  "language_info": {
   "codemirror_mode": {
    "name": "ipython",
    "version": 3
   },
   "file_extension": ".py",
   "mimetype": "text/x-python",
   "name": "python",
   "nbconvert_exporter": "python",
   "pygments_lexer": "ipython3",
   "version": "3.8.0"
  }
 },
 "nbformat": 4,
 "nbformat_minor": 5
}
